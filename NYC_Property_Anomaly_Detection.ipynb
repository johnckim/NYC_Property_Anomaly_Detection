{
  "nbformat": 4,
  "nbformat_minor": 0,
  "metadata": {
    "kernelspec": {
      "display_name": "Python 3",
      "language": "python",
      "name": "python3"
    },
    "language_info": {
      "codemirror_mode": {
        "name": "ipython",
        "version": 3
      },
      "file_extension": ".py",
      "mimetype": "text/x-python",
      "name": "python",
      "nbconvert_exporter": "python",
      "pygments_lexer": "ipython3",
      "version": "3.7.3"
    },
    "colab": {
      "name": "NYC_Property_Anomaly_Detection.ipynb",
      "provenance": [],
      "collapsed_sections": []
    }
  },
  "cells": [
    {
      "cell_type": "code",
      "metadata": {
        "id": "kMbV0U91egRa",
        "colab_type": "code",
        "colab": {
          "base_uri": "https://localhost:8080/",
          "height": 34
        },
        "outputId": "a1bf533e-6aec-4298-fbc1-e70200e496f2"
      },
      "source": [
        "from google.colab import drive\n",
        "drive.mount('/content/drive')"
      ],
      "execution_count": 1,
      "outputs": [
        {
          "output_type": "stream",
          "text": [
            "Drive already mounted at /content/drive; to attempt to forcibly remount, call drive.mount(\"/content/drive\", force_remount=True).\n"
          ],
          "name": "stdout"
        }
      ]
    },
    {
      "cell_type": "code",
      "metadata": {
        "id": "I36ejclSXpAS",
        "colab_type": "code",
        "colab": {
          "base_uri": "https://localhost:8080/",
          "height": 85
        },
        "outputId": "9636c2bd-e92a-4b17-9ffc-c49922a68358"
      },
      "source": [
        "import pandas as pd\n",
        "import numpy as np\n",
        "import scipy as sp\n",
        "import matplotlib.pyplot as plt\n",
        "import seaborn as sns\n",
        "from datetime import datetime\n",
        "from datetime import timedelta\n",
        "\n",
        "from sklearn.preprocessing import StandardScaler\n",
        "from sklearn.decomposition import PCA\n",
        "\n",
        "start_time = pd.datetime.now()"
      ],
      "execution_count": 2,
      "outputs": [
        {
          "output_type": "stream",
          "text": [
            "/usr/local/lib/python3.6/dist-packages/statsmodels/tools/_testing.py:19: FutureWarning: pandas.util.testing is deprecated. Use the functions in the public API at pandas.testing instead.\n",
            "  import pandas.util.testing as tm\n",
            "/usr/local/lib/python3.6/dist-packages/ipykernel_launcher.py:12: FutureWarning: The pandas.datetime class is deprecated and will be removed from pandas in a future version. Import from datetime instead.\n",
            "  if sys.path[0] == '':\n"
          ],
          "name": "stderr"
        }
      ]
    },
    {
      "cell_type": "code",
      "metadata": {
        "id": "U9T7qt9ZexVQ",
        "colab_type": "code",
        "colab": {}
      },
      "source": [
        "data = pd.read_csv('/content/drive/My Drive/5. USC/3. Spring 2020/DSO562 Fraud/Project/project01/NY property data.csv')"
      ],
      "execution_count": 3,
      "outputs": []
    },
    {
      "cell_type": "code",
      "metadata": {
        "id": "eG08JuQFfZMI",
        "colab_type": "code",
        "colab": {
          "base_uri": "https://localhost:8080/",
          "height": 745
        },
        "outputId": "578a6ced-8176-4dd6-e003-920874a8c468"
      },
      "source": [
        "data"
      ],
      "execution_count": 4,
      "outputs": [
        {
          "output_type": "execute_result",
          "data": {
            "text/html": [
              "<div>\n",
              "<style scoped>\n",
              "    .dataframe tbody tr th:only-of-type {\n",
              "        vertical-align: middle;\n",
              "    }\n",
              "\n",
              "    .dataframe tbody tr th {\n",
              "        vertical-align: top;\n",
              "    }\n",
              "\n",
              "    .dataframe thead th {\n",
              "        text-align: right;\n",
              "    }\n",
              "</style>\n",
              "<table border=\"1\" class=\"dataframe\">\n",
              "  <thead>\n",
              "    <tr style=\"text-align: right;\">\n",
              "      <th></th>\n",
              "      <th>RECORD</th>\n",
              "      <th>BBLE</th>\n",
              "      <th>B</th>\n",
              "      <th>BLOCK</th>\n",
              "      <th>LOT</th>\n",
              "      <th>EASEMENT</th>\n",
              "      <th>OWNER</th>\n",
              "      <th>BLDGCL</th>\n",
              "      <th>TAXCLASS</th>\n",
              "      <th>LTFRONT</th>\n",
              "      <th>LTDEPTH</th>\n",
              "      <th>EXT</th>\n",
              "      <th>STORIES</th>\n",
              "      <th>FULLVAL</th>\n",
              "      <th>AVLAND</th>\n",
              "      <th>AVTOT</th>\n",
              "      <th>EXLAND</th>\n",
              "      <th>EXTOT</th>\n",
              "      <th>EXCD1</th>\n",
              "      <th>STADDR</th>\n",
              "      <th>ZIP</th>\n",
              "      <th>EXMPTCL</th>\n",
              "      <th>BLDFRONT</th>\n",
              "      <th>BLDDEPTH</th>\n",
              "      <th>AVLAND2</th>\n",
              "      <th>AVTOT2</th>\n",
              "      <th>EXLAND2</th>\n",
              "      <th>EXTOT2</th>\n",
              "      <th>EXCD2</th>\n",
              "      <th>PERIOD</th>\n",
              "      <th>YEAR</th>\n",
              "      <th>VALTYPE</th>\n",
              "    </tr>\n",
              "  </thead>\n",
              "  <tbody>\n",
              "    <tr>\n",
              "      <th>0</th>\n",
              "      <td>1</td>\n",
              "      <td>1000010101</td>\n",
              "      <td>1</td>\n",
              "      <td>1</td>\n",
              "      <td>101</td>\n",
              "      <td>NaN</td>\n",
              "      <td>U S GOVT LAND &amp; BLDGS</td>\n",
              "      <td>P7</td>\n",
              "      <td>4</td>\n",
              "      <td>500</td>\n",
              "      <td>1046</td>\n",
              "      <td>NaN</td>\n",
              "      <td>NaN</td>\n",
              "      <td>21400000.0</td>\n",
              "      <td>4225500.0</td>\n",
              "      <td>9630000.0</td>\n",
              "      <td>4225500.0</td>\n",
              "      <td>9630000.0</td>\n",
              "      <td>4600.0</td>\n",
              "      <td>1 LIBERTY ISLAND</td>\n",
              "      <td>10004.0</td>\n",
              "      <td>X3</td>\n",
              "      <td>0</td>\n",
              "      <td>0</td>\n",
              "      <td>3775500.0</td>\n",
              "      <td>8613000.0</td>\n",
              "      <td>3775500.0</td>\n",
              "      <td>8613000.0</td>\n",
              "      <td>NaN</td>\n",
              "      <td>FINAL</td>\n",
              "      <td>2010/11</td>\n",
              "      <td>AC-TR</td>\n",
              "    </tr>\n",
              "    <tr>\n",
              "      <th>1</th>\n",
              "      <td>2</td>\n",
              "      <td>1000010201</td>\n",
              "      <td>1</td>\n",
              "      <td>1</td>\n",
              "      <td>201</td>\n",
              "      <td>NaN</td>\n",
              "      <td>U S GOVT LAND &amp; BLDGS</td>\n",
              "      <td>Z9</td>\n",
              "      <td>4</td>\n",
              "      <td>27</td>\n",
              "      <td>0</td>\n",
              "      <td>NaN</td>\n",
              "      <td>NaN</td>\n",
              "      <td>193800000.0</td>\n",
              "      <td>14310000.0</td>\n",
              "      <td>87210000.0</td>\n",
              "      <td>14310000.0</td>\n",
              "      <td>87210000.0</td>\n",
              "      <td>4600.0</td>\n",
              "      <td>1 ELLIS ISLAND</td>\n",
              "      <td>10004.0</td>\n",
              "      <td>X3</td>\n",
              "      <td>0</td>\n",
              "      <td>0</td>\n",
              "      <td>11111400.0</td>\n",
              "      <td>80690400.0</td>\n",
              "      <td>11111400.0</td>\n",
              "      <td>80690400.0</td>\n",
              "      <td>NaN</td>\n",
              "      <td>FINAL</td>\n",
              "      <td>2010/11</td>\n",
              "      <td>AC-TR</td>\n",
              "    </tr>\n",
              "    <tr>\n",
              "      <th>2</th>\n",
              "      <td>3</td>\n",
              "      <td>1000020001</td>\n",
              "      <td>1</td>\n",
              "      <td>2</td>\n",
              "      <td>1</td>\n",
              "      <td>NaN</td>\n",
              "      <td>DEPT OF GENERAL SERVI</td>\n",
              "      <td>Y7</td>\n",
              "      <td>4</td>\n",
              "      <td>709</td>\n",
              "      <td>564</td>\n",
              "      <td>E</td>\n",
              "      <td>3.0</td>\n",
              "      <td>104686000.0</td>\n",
              "      <td>39008700.0</td>\n",
              "      <td>47108700.0</td>\n",
              "      <td>39008700.0</td>\n",
              "      <td>47108700.0</td>\n",
              "      <td>2191.0</td>\n",
              "      <td>MARGINAL STREET</td>\n",
              "      <td>10004.0</td>\n",
              "      <td>X1</td>\n",
              "      <td>709</td>\n",
              "      <td>564</td>\n",
              "      <td>32321790.0</td>\n",
              "      <td>40179510.0</td>\n",
              "      <td>32321790.0</td>\n",
              "      <td>40179510.0</td>\n",
              "      <td>NaN</td>\n",
              "      <td>FINAL</td>\n",
              "      <td>2010/11</td>\n",
              "      <td>AC-TR</td>\n",
              "    </tr>\n",
              "    <tr>\n",
              "      <th>3</th>\n",
              "      <td>4</td>\n",
              "      <td>1000020023</td>\n",
              "      <td>1</td>\n",
              "      <td>2</td>\n",
              "      <td>23</td>\n",
              "      <td>NaN</td>\n",
              "      <td>DEPARTMENT OF BUSINES</td>\n",
              "      <td>T2</td>\n",
              "      <td>4</td>\n",
              "      <td>793</td>\n",
              "      <td>551</td>\n",
              "      <td>NaN</td>\n",
              "      <td>2.0</td>\n",
              "      <td>39200000.0</td>\n",
              "      <td>15255000.0</td>\n",
              "      <td>17640000.0</td>\n",
              "      <td>15255000.0</td>\n",
              "      <td>17640000.0</td>\n",
              "      <td>2191.0</td>\n",
              "      <td>PIER 6</td>\n",
              "      <td>10004.0</td>\n",
              "      <td>X1</td>\n",
              "      <td>85</td>\n",
              "      <td>551</td>\n",
              "      <td>13644000.0</td>\n",
              "      <td>15750000.0</td>\n",
              "      <td>13644000.0</td>\n",
              "      <td>15750000.0</td>\n",
              "      <td>NaN</td>\n",
              "      <td>FINAL</td>\n",
              "      <td>2010/11</td>\n",
              "      <td>AC-TR</td>\n",
              "    </tr>\n",
              "    <tr>\n",
              "      <th>4</th>\n",
              "      <td>5</td>\n",
              "      <td>1000030001</td>\n",
              "      <td>1</td>\n",
              "      <td>3</td>\n",
              "      <td>1</td>\n",
              "      <td>NaN</td>\n",
              "      <td>PARKS AND RECREATION</td>\n",
              "      <td>Q1</td>\n",
              "      <td>4</td>\n",
              "      <td>323</td>\n",
              "      <td>1260</td>\n",
              "      <td>NaN</td>\n",
              "      <td>1.0</td>\n",
              "      <td>272300000.0</td>\n",
              "      <td>121050000.0</td>\n",
              "      <td>122535000.0</td>\n",
              "      <td>121050000.0</td>\n",
              "      <td>122535000.0</td>\n",
              "      <td>2231.0</td>\n",
              "      <td>BATTERY PARK</td>\n",
              "      <td>10004.0</td>\n",
              "      <td>X1</td>\n",
              "      <td>89</td>\n",
              "      <td>57</td>\n",
              "      <td>106348680.0</td>\n",
              "      <td>107758350.0</td>\n",
              "      <td>106348680.0</td>\n",
              "      <td>107758350.0</td>\n",
              "      <td>NaN</td>\n",
              "      <td>FINAL</td>\n",
              "      <td>2010/11</td>\n",
              "      <td>AC-TR</td>\n",
              "    </tr>\n",
              "    <tr>\n",
              "      <th>...</th>\n",
              "      <td>...</td>\n",
              "      <td>...</td>\n",
              "      <td>...</td>\n",
              "      <td>...</td>\n",
              "      <td>...</td>\n",
              "      <td>...</td>\n",
              "      <td>...</td>\n",
              "      <td>...</td>\n",
              "      <td>...</td>\n",
              "      <td>...</td>\n",
              "      <td>...</td>\n",
              "      <td>...</td>\n",
              "      <td>...</td>\n",
              "      <td>...</td>\n",
              "      <td>...</td>\n",
              "      <td>...</td>\n",
              "      <td>...</td>\n",
              "      <td>...</td>\n",
              "      <td>...</td>\n",
              "      <td>...</td>\n",
              "      <td>...</td>\n",
              "      <td>...</td>\n",
              "      <td>...</td>\n",
              "      <td>...</td>\n",
              "      <td>...</td>\n",
              "      <td>...</td>\n",
              "      <td>...</td>\n",
              "      <td>...</td>\n",
              "      <td>...</td>\n",
              "      <td>...</td>\n",
              "      <td>...</td>\n",
              "      <td>...</td>\n",
              "    </tr>\n",
              "    <tr>\n",
              "      <th>1070989</th>\n",
              "      <td>1070990</td>\n",
              "      <td>5080500083</td>\n",
              "      <td>5</td>\n",
              "      <td>8050</td>\n",
              "      <td>83</td>\n",
              "      <td>NaN</td>\n",
              "      <td>TOBIN, GALE</td>\n",
              "      <td>A1</td>\n",
              "      <td>1</td>\n",
              "      <td>60</td>\n",
              "      <td>120</td>\n",
              "      <td>NaN</td>\n",
              "      <td>2.5</td>\n",
              "      <td>438000.0</td>\n",
              "      <td>14536.0</td>\n",
              "      <td>23322.0</td>\n",
              "      <td>1620.0</td>\n",
              "      <td>1620.0</td>\n",
              "      <td>1017.0</td>\n",
              "      <td>142 BENTLEY STREET</td>\n",
              "      <td>10307.0</td>\n",
              "      <td>NaN</td>\n",
              "      <td>30</td>\n",
              "      <td>26</td>\n",
              "      <td>NaN</td>\n",
              "      <td>NaN</td>\n",
              "      <td>NaN</td>\n",
              "      <td>NaN</td>\n",
              "      <td>NaN</td>\n",
              "      <td>FINAL</td>\n",
              "      <td>2010/11</td>\n",
              "      <td>AC-TR</td>\n",
              "    </tr>\n",
              "    <tr>\n",
              "      <th>1070990</th>\n",
              "      <td>1070991</td>\n",
              "      <td>5080500086</td>\n",
              "      <td>5</td>\n",
              "      <td>8050</td>\n",
              "      <td>86</td>\n",
              "      <td>NaN</td>\n",
              "      <td>SHERRI MILINAZZO</td>\n",
              "      <td>A1</td>\n",
              "      <td>1</td>\n",
              "      <td>62</td>\n",
              "      <td>228</td>\n",
              "      <td>NaN</td>\n",
              "      <td>2.5</td>\n",
              "      <td>544000.0</td>\n",
              "      <td>9303.0</td>\n",
              "      <td>14929.0</td>\n",
              "      <td>1620.0</td>\n",
              "      <td>1620.0</td>\n",
              "      <td>1017.0</td>\n",
              "      <td>146 BENTLEY STREET</td>\n",
              "      <td>10307.0</td>\n",
              "      <td>NaN</td>\n",
              "      <td>32</td>\n",
              "      <td>26</td>\n",
              "      <td>NaN</td>\n",
              "      <td>NaN</td>\n",
              "      <td>NaN</td>\n",
              "      <td>NaN</td>\n",
              "      <td>NaN</td>\n",
              "      <td>FINAL</td>\n",
              "      <td>2010/11</td>\n",
              "      <td>AC-TR</td>\n",
              "    </tr>\n",
              "    <tr>\n",
              "      <th>1070991</th>\n",
              "      <td>1070992</td>\n",
              "      <td>5080500089</td>\n",
              "      <td>5</td>\n",
              "      <td>8050</td>\n",
              "      <td>89</td>\n",
              "      <td>NaN</td>\n",
              "      <td>JOHN GERVASI</td>\n",
              "      <td>A1</td>\n",
              "      <td>1</td>\n",
              "      <td>53</td>\n",
              "      <td>273</td>\n",
              "      <td>G</td>\n",
              "      <td>2.0</td>\n",
              "      <td>480000.0</td>\n",
              "      <td>14790.0</td>\n",
              "      <td>22975.0</td>\n",
              "      <td>14728.0</td>\n",
              "      <td>14728.0</td>\n",
              "      <td>1015.0</td>\n",
              "      <td>150 BENTLEY STREET</td>\n",
              "      <td>10307.0</td>\n",
              "      <td>NaN</td>\n",
              "      <td>24</td>\n",
              "      <td>32</td>\n",
              "      <td>NaN</td>\n",
              "      <td>NaN</td>\n",
              "      <td>NaN</td>\n",
              "      <td>NaN</td>\n",
              "      <td>1017.0</td>\n",
              "      <td>FINAL</td>\n",
              "      <td>2010/11</td>\n",
              "      <td>AC-TR</td>\n",
              "    </tr>\n",
              "    <tr>\n",
              "      <th>1070992</th>\n",
              "      <td>1070993</td>\n",
              "      <td>5080500092</td>\n",
              "      <td>5</td>\n",
              "      <td>8050</td>\n",
              "      <td>92</td>\n",
              "      <td>NaN</td>\n",
              "      <td>RITA M MOOG</td>\n",
              "      <td>A1</td>\n",
              "      <td>1</td>\n",
              "      <td>52</td>\n",
              "      <td>136</td>\n",
              "      <td>NaN</td>\n",
              "      <td>2.0</td>\n",
              "      <td>543000.0</td>\n",
              "      <td>12388.0</td>\n",
              "      <td>23037.0</td>\n",
              "      <td>1620.0</td>\n",
              "      <td>1620.0</td>\n",
              "      <td>1017.0</td>\n",
              "      <td>156 BENTLEY STREET</td>\n",
              "      <td>10307.0</td>\n",
              "      <td>NaN</td>\n",
              "      <td>32</td>\n",
              "      <td>21</td>\n",
              "      <td>NaN</td>\n",
              "      <td>NaN</td>\n",
              "      <td>NaN</td>\n",
              "      <td>NaN</td>\n",
              "      <td>NaN</td>\n",
              "      <td>FINAL</td>\n",
              "      <td>2010/11</td>\n",
              "      <td>AC-TR</td>\n",
              "    </tr>\n",
              "    <tr>\n",
              "      <th>1070993</th>\n",
              "      <td>1070994</td>\n",
              "      <td>5080500094</td>\n",
              "      <td>5</td>\n",
              "      <td>8050</td>\n",
              "      <td>94</td>\n",
              "      <td>NaN</td>\n",
              "      <td>EDWARD DONOHUE</td>\n",
              "      <td>A1</td>\n",
              "      <td>1</td>\n",
              "      <td>50</td>\n",
              "      <td>80</td>\n",
              "      <td>NaN</td>\n",
              "      <td>2.0</td>\n",
              "      <td>473000.0</td>\n",
              "      <td>14061.0</td>\n",
              "      <td>22394.0</td>\n",
              "      <td>1620.0</td>\n",
              "      <td>1620.0</td>\n",
              "      <td>1017.0</td>\n",
              "      <td>162 BENTLEY STREET</td>\n",
              "      <td>10307.0</td>\n",
              "      <td>NaN</td>\n",
              "      <td>30</td>\n",
              "      <td>24</td>\n",
              "      <td>NaN</td>\n",
              "      <td>NaN</td>\n",
              "      <td>NaN</td>\n",
              "      <td>NaN</td>\n",
              "      <td>NaN</td>\n",
              "      <td>FINAL</td>\n",
              "      <td>2010/11</td>\n",
              "      <td>AC-TR</td>\n",
              "    </tr>\n",
              "  </tbody>\n",
              "</table>\n",
              "<p>1070994 rows × 32 columns</p>\n",
              "</div>"
            ],
            "text/plain": [
              "          RECORD        BBLE  B  BLOCK  ...   EXCD2 PERIOD     YEAR VALTYPE\n",
              "0              1  1000010101  1      1  ...     NaN  FINAL  2010/11   AC-TR\n",
              "1              2  1000010201  1      1  ...     NaN  FINAL  2010/11   AC-TR\n",
              "2              3  1000020001  1      2  ...     NaN  FINAL  2010/11   AC-TR\n",
              "3              4  1000020023  1      2  ...     NaN  FINAL  2010/11   AC-TR\n",
              "4              5  1000030001  1      3  ...     NaN  FINAL  2010/11   AC-TR\n",
              "...          ...         ... ..    ...  ...     ...    ...      ...     ...\n",
              "1070989  1070990  5080500083  5   8050  ...     NaN  FINAL  2010/11   AC-TR\n",
              "1070990  1070991  5080500086  5   8050  ...     NaN  FINAL  2010/11   AC-TR\n",
              "1070991  1070992  5080500089  5   8050  ...  1017.0  FINAL  2010/11   AC-TR\n",
              "1070992  1070993  5080500092  5   8050  ...     NaN  FINAL  2010/11   AC-TR\n",
              "1070993  1070994  5080500094  5   8050  ...     NaN  FINAL  2010/11   AC-TR\n",
              "\n",
              "[1070994 rows x 32 columns]"
            ]
          },
          "metadata": {
            "tags": []
          },
          "execution_count": 4
        }
      ]
    },
    {
      "cell_type": "markdown",
      "metadata": {
        "id": "C_EM8aghfVis",
        "colab_type": "text"
      },
      "source": [
        "## Data Exploration"
      ]
    },
    {
      "cell_type": "markdown",
      "metadata": {
        "id": "Xaj9EEBfqKCn",
        "colab_type": "text"
      },
      "source": [
        "For this project, I only use the following fields:\n",
        "- Property Size: LTFRONT, LTDEPTH, BLDFRONT, BLDDEPTH, STORIES\n",
        "- Property Value: FULLVAL, AVLAND, AVTOT\n",
        "- Location and Characteristics: B, BLOCK, LOT, ZIP, TAXCLASS\n"
      ]
    },
    {
      "cell_type": "code",
      "metadata": {
        "id": "YmX6Zrmoshzc",
        "colab_type": "code",
        "colab": {
          "base_uri": "https://localhost:8080/",
          "height": 578
        },
        "outputId": "61effbba-a946-418a-de0e-ad269ff10ac1"
      },
      "source": [
        "data.dtypes"
      ],
      "execution_count": 5,
      "outputs": [
        {
          "output_type": "execute_result",
          "data": {
            "text/plain": [
              "RECORD        int64\n",
              "BBLE         object\n",
              "B             int64\n",
              "BLOCK         int64\n",
              "LOT           int64\n",
              "EASEMENT     object\n",
              "OWNER        object\n",
              "BLDGCL       object\n",
              "TAXCLASS     object\n",
              "LTFRONT       int64\n",
              "LTDEPTH       int64\n",
              "EXT          object\n",
              "STORIES     float64\n",
              "FULLVAL     float64\n",
              "AVLAND      float64\n",
              "AVTOT       float64\n",
              "EXLAND      float64\n",
              "EXTOT       float64\n",
              "EXCD1       float64\n",
              "STADDR       object\n",
              "ZIP         float64\n",
              "EXMPTCL      object\n",
              "BLDFRONT      int64\n",
              "BLDDEPTH      int64\n",
              "AVLAND2     float64\n",
              "AVTOT2      float64\n",
              "EXLAND2     float64\n",
              "EXTOT2      float64\n",
              "EXCD2       float64\n",
              "PERIOD       object\n",
              "YEAR         object\n",
              "VALTYPE      object\n",
              "dtype: object"
            ]
          },
          "metadata": {
            "tags": []
          },
          "execution_count": 5
        }
      ]
    },
    {
      "cell_type": "code",
      "metadata": {
        "id": "x1S2mLn6r9w6",
        "colab_type": "code",
        "colab": {}
      },
      "source": [
        "numerical = ['LTFRONT','LTDEPTH','BLDFRONT','BLDDEPTH',\"FULLVAL\",\"AVLAND\",\"AVTOT\",'STORIES']\n",
        "categorical = ['B','BLOCK','LOT','STADDR','ZIP','TAXCLASS']\n",
        "data = data[['RECORD']+categorical+numerical].copy()"
      ],
      "execution_count": 6,
      "outputs": []
    },
    {
      "cell_type": "markdown",
      "metadata": {
        "id": "qcfJvkA3r8vD",
        "colab_type": "text"
      },
      "source": [
        "Here, I check the number of null values, unique values, 0's and distribution of the fields"
      ]
    },
    {
      "cell_type": "code",
      "metadata": {
        "id": "Zt_3zaJwt31w",
        "colab_type": "code",
        "colab": {}
      },
      "source": [
        "data[['B','BLOCK','LOT','ZIP']] = data[['B','BLOCK','LOT','ZIP']].astype(str).replace('nan',np.nan)"
      ],
      "execution_count": 7,
      "outputs": []
    },
    {
      "cell_type": "code",
      "metadata": {
        "id": "83lDST10upG0",
        "colab_type": "code",
        "colab": {
          "base_uri": "https://localhost:8080/",
          "height": 170
        },
        "outputId": "34563acf-ef61-4c1f-f5e9-aade652d1632"
      },
      "source": [
        "(data[numerical]==0).sum()"
      ],
      "execution_count": 8,
      "outputs": [
        {
          "output_type": "execute_result",
          "data": {
            "text/plain": [
              "LTFRONT     169108\n",
              "LTDEPTH     170128\n",
              "BLDFRONT    228815\n",
              "BLDDEPTH    228853\n",
              "FULLVAL      13007\n",
              "AVLAND       13009\n",
              "AVTOT        13007\n",
              "STORIES          0\n",
              "dtype: int64"
            ]
          },
          "metadata": {
            "tags": []
          },
          "execution_count": 8
        }
      ]
    },
    {
      "cell_type": "code",
      "metadata": {
        "id": "r7tIjmS5rkG-",
        "colab_type": "code",
        "colab": {}
      },
      "source": [
        "data[numerical] = data[numerical].replace({0:np.nan})"
      ],
      "execution_count": 9,
      "outputs": []
    },
    {
      "cell_type": "code",
      "metadata": {
        "id": "5r4ivY9ovxQE",
        "colab_type": "code",
        "colab": {
          "base_uri": "https://localhost:8080/",
          "height": 289
        },
        "outputId": "b03028a5-1d02-4653-939e-66bbaf1d0037"
      },
      "source": [
        "data.isna().sum()"
      ],
      "execution_count": 10,
      "outputs": [
        {
          "output_type": "execute_result",
          "data": {
            "text/plain": [
              "RECORD           0\n",
              "B                0\n",
              "BLOCK            0\n",
              "LOT              0\n",
              "STADDR         676\n",
              "ZIP          29890\n",
              "TAXCLASS         0\n",
              "LTFRONT     169108\n",
              "LTDEPTH     170128\n",
              "BLDFRONT    228815\n",
              "BLDDEPTH    228853\n",
              "FULLVAL      13007\n",
              "AVLAND       13009\n",
              "AVTOT        13007\n",
              "STORIES      56264\n",
              "dtype: int64"
            ]
          },
          "metadata": {
            "tags": []
          },
          "execution_count": 10
        }
      ]
    },
    {
      "cell_type": "code",
      "metadata": {
        "id": "iIPcdmrDrkgk",
        "colab_type": "code",
        "colab": {
          "base_uri": "https://localhost:8080/",
          "height": 289
        },
        "outputId": "665f8f3b-227b-4614-b584-c2e1dc1c829f"
      },
      "source": [
        "data.nunique()"
      ],
      "execution_count": 11,
      "outputs": [
        {
          "output_type": "execute_result",
          "data": {
            "text/plain": [
              "RECORD      1070994\n",
              "B                 5\n",
              "BLOCK         13984\n",
              "LOT            6366\n",
              "STADDR       839280\n",
              "ZIP             196\n",
              "TAXCLASS         11\n",
              "LTFRONT        1296\n",
              "LTDEPTH        1369\n",
              "BLDFRONT        611\n",
              "BLDDEPTH        620\n",
              "FULLVAL      109323\n",
              "AVLAND        70920\n",
              "AVTOT        112913\n",
              "STORIES         111\n",
              "dtype: int64"
            ]
          },
          "metadata": {
            "tags": []
          },
          "execution_count": 11
        }
      ]
    },
    {
      "cell_type": "code",
      "metadata": {
        "id": "TNjM89L9-4iA",
        "colab_type": "code",
        "colab": {}
      },
      "source": [
        "sns.set()"
      ],
      "execution_count": 12,
      "outputs": []
    },
    {
      "cell_type": "code",
      "metadata": {
        "id": "GvgXZRaQ_BAA",
        "colab_type": "code",
        "colab": {}
      },
      "source": [
        "def plot_bar(colname, length=6.4, width=4.8, rotation='None', log_scale=None):\n",
        "    plt.figure(figsize=(length, width))\n",
        "    y = data[colname].value_counts().head(15)\n",
        "    x = y.index\n",
        "    plt.bar(x, y)\n",
        "    plt.ylabel('Frequency')\n",
        "    plt.xlabel(colname)\n",
        "    if rotation==1:\n",
        "        plt.xticks(rotation=90)\n",
        "    if log_scale==1:\n",
        "        plt.yscale('log')\n",
        "        plt.ylabel('log scale of Frequency')\n",
        "    else:\n",
        "        plt.ylabel('Frequency')    \n",
        "    plt.title(colname+' (top {})'.format(min(data[colname].nunique(), 15)))\n",
        "    plt.show()"
      ],
      "execution_count": 13,
      "outputs": []
    },
    {
      "cell_type": "code",
      "metadata": {
        "id": "nIe74rpOUGBB",
        "colab_type": "code",
        "colab": {}
      },
      "source": [
        "def plot_hist(data, colname, bins=50, xhigh=None, length=6.4, width=4.8, log_scale=None):\n",
        "    if xhigh==None:\n",
        "        xhigh = data[colname].max()\n",
        "    plt.figure(figsize=(length, width))\n",
        "    plt.hist(data[data[colname]<xhigh][colname].dropna(), bins=bins, edgecolor='blue')\n",
        "    plt.xlabel(colname)\n",
        "    plt.xlim(0, xhigh)\n",
        "    plt.title(' Distribution of '+colname)\n",
        "    if log_scale==1:\n",
        "        plt.yscale('log')\n",
        "        plt.ylabel('log scale of Frequency')\n",
        "    else:\n",
        "        plt.ylabel('frequency')\n",
        "    plt.show()"
      ],
      "execution_count": 14,
      "outputs": []
    },
    {
      "cell_type": "markdown",
      "metadata": {
        "id": "bm9GBMb3vOWV",
        "colab_type": "text"
      },
      "source": [
        "### B\n",
        "Borough or districts in NYC (1: Manhattan, 2: Bronx, 3: Brooklyn, 4: Queens, 5: Staten Island)"
      ]
    },
    {
      "cell_type": "code",
      "metadata": {
        "id": "PCMTg9nQ9yEQ",
        "colab_type": "code",
        "colab": {
          "base_uri": "https://localhost:8080/",
          "height": 344
        },
        "outputId": "dfa315b0-8d49-496c-c114-dc092519d2de"
      },
      "source": [
        "plot_bar('B')"
      ],
      "execution_count": 15,
      "outputs": [
        {
          "output_type": "display_data",
          "data": {
            "image/png": "[encoded data removed]",
            "text/plain": [
              "<Figure size 460.8x345.6 with 1 Axes>"
            ]
          },
          "metadata": {
            "tags": []
          }
        }
      ]
    },
    {
      "cell_type": "markdown",
      "metadata": {
        "id": "n0idyHwVvUM3",
        "colab_type": "text"
      },
      "source": [
        "### BLOCK\n",
        "Valid block ranges within boroughs"
      ]
    },
    {
      "cell_type": "code",
      "metadata": {
        "id": "OXyRc4l39yog",
        "colab_type": "code",
        "colab": {
          "base_uri": "https://localhost:8080/",
          "height": 344
        },
        "outputId": "d353b4d2-bd03-431d-ac2c-e9c66bb429c7"
      },
      "source": [
        "plot_bar('BLOCK', 10)"
      ],
      "execution_count": 16,
      "outputs": [
        {
          "output_type": "display_data",
          "data": {
            "image/png": "[encoded data removed]",
            "text/plain": [
              "<Figure size 720x345.6 with 1 Axes>"
            ]
          },
          "metadata": {
            "tags": []
          }
        }
      ]
    },
    {
      "cell_type": "markdown",
      "metadata": {
        "id": "GZvFnrsJvUEb",
        "colab_type": "text"
      },
      "source": [
        "### LOT\n",
        "Unique number within each borough or block"
      ]
    },
    {
      "cell_type": "code",
      "metadata": {
        "id": "et03MYvj9wqR",
        "colab_type": "code",
        "colab": {
          "base_uri": "https://localhost:8080/",
          "height": 344
        },
        "outputId": "1ee9cdb0-282b-4450-8d1f-4f8566518922"
      },
      "source": [
        "plot_bar('LOT')"
      ],
      "execution_count": 17,
      "outputs": [
        {
          "output_type": "display_data",
          "data": {
            "image/png": "[encoded data removed]",
            "text/plain": [
              "<Figure size 460.8x345.6 with 1 Axes>"
            ]
          },
          "metadata": {
            "tags": []
          }
        }
      ]
    },
    {
      "cell_type": "markdown",
      "metadata": {
        "id": "CBMR9nQQ9weA",
        "colab_type": "text"
      },
      "source": [
        "### STADDR\n",
        "Street address of the property"
      ]
    },
    {
      "cell_type": "code",
      "metadata": {
        "id": "vUtXYQbT94qZ",
        "colab_type": "code",
        "colab": {
          "base_uri": "https://localhost:8080/",
          "height": 488
        },
        "outputId": "68066330-f908-4d7d-ffdb-12765cd9b401"
      },
      "source": [
        "plot_bar('STADDR', rotation=1)"
      ],
      "execution_count": 18,
      "outputs": [
        {
          "output_type": "display_data",
          "data": {
            "image/png": "[encoded data removed]",
            "text/plain": [
              "<Figure size 460.8x345.6 with 1 Axes>"
            ]
          },
          "metadata": {
            "tags": []
          }
        }
      ]
    },
    {
      "cell_type": "markdown",
      "metadata": {
        "id": "-eRWdHqD94zB",
        "colab_type": "text"
      },
      "source": [
        "### ZIP\n",
        "Postal zip code of the property"
      ]
    },
    {
      "cell_type": "code",
      "metadata": {
        "id": "YNOHqhkw-BOE",
        "colab_type": "code",
        "colab": {
          "base_uri": "https://localhost:8080/",
          "height": 380
        },
        "outputId": "82e0703d-fb33-4778-f951-1ddb52d7358a"
      },
      "source": [
        "plot_bar('ZIP', rotation=1)"
      ],
      "execution_count": 19,
      "outputs": [
        {
          "output_type": "display_data",
          "data": {
            "image/png": "[encoded data removed]",
            "text/plain": [
              "<Figure size 460.8x345.6 with 1 Axes>"
            ]
          },
          "metadata": {
            "tags": []
          }
        }
      ]
    },
    {
      "cell_type": "markdown",
      "metadata": {
        "id": "0NAv-jD1-BSU",
        "colab_type": "text"
      },
      "source": [
        "### TAXCLASS\n",
        "The current property tax class code (NYS Classification)\n",
        "- The first position of the tax class has a direct correlation with the building class.\n",
        "- 1: 1-3 unit residences, 1a: 1-3 story condominiums, 1b: residential vacant land, 1c: 1-3 unit condominums, \n",
        "1d: select bungalow colonies, 2: apartments, 2a: apartments with 4-6 units, 2b: apartments with 7-10 units, \n",
        "2c: coops/condos with 2-10 units, 3: utilities except ceiling rr, 4a: utilities - ceiling railroads, 4: all others"
      ]
    },
    {
      "cell_type": "code",
      "metadata": {
        "id": "PoDVlps6-BIp",
        "colab_type": "code",
        "colab": {
          "base_uri": "https://localhost:8080/",
          "height": 344
        },
        "outputId": "d9c15781-84e1-4c5b-c26a-755dcbcf2408"
      },
      "source": [
        "plot_bar('TAXCLASS', log_scale=1)"
      ],
      "execution_count": 20,
      "outputs": [
        {
          "output_type": "display_data",
          "data": {
            "image/png": "[encoded data removed]",
            "text/plain": [
              "<Figure size 460.8x345.6 with 1 Axes>"
            ]
          },
          "metadata": {
            "tags": []
          }
        }
      ]
    },
    {
      "cell_type": "markdown",
      "metadata": {
        "id": "LyAjkxcn9424",
        "colab_type": "text"
      },
      "source": [
        "### LTFRONT\n",
        "Lot width in feet"
      ]
    },
    {
      "cell_type": "code",
      "metadata": {
        "id": "pP49myc9ZrP1",
        "colab_type": "code",
        "colab": {
          "base_uri": "https://localhost:8080/",
          "height": 170
        },
        "outputId": "8e2f1e18-1c21-48e6-bbeb-37f406376a4b"
      },
      "source": [
        "data['LTFRONT'].describe()"
      ],
      "execution_count": 21,
      "outputs": [
        {
          "output_type": "execute_result",
          "data": {
            "text/plain": [
              "count    901886.000000\n",
              "mean         43.504598\n",
              "std          78.801676\n",
              "min           1.000000\n",
              "25%          20.000000\n",
              "50%          25.000000\n",
              "75%          40.000000\n",
              "max        9999.000000\n",
              "Name: LTFRONT, dtype: float64"
            ]
          },
          "metadata": {
            "tags": []
          },
          "execution_count": 21
        }
      ]
    },
    {
      "cell_type": "code",
      "metadata": {
        "id": "pzVTaj94-Ktn",
        "colab_type": "code",
        "colab": {
          "base_uri": "https://localhost:8080/",
          "height": 344
        },
        "outputId": "b5581190-3536-43f2-eb29-8e67e1388b9f"
      },
      "source": [
        "plot_hist(data, 'LTFRONT', bins=50, xhigh=250)"
      ],
      "execution_count": 22,
      "outputs": [
        {
          "output_type": "display_data",
          "data": {
            "image/png": "[encoded data removed]",
            "text/plain": [
              "<Figure size 460.8x345.6 with 1 Axes>"
            ]
          },
          "metadata": {
            "tags": []
          }
        }
      ]
    },
    {
      "cell_type": "markdown",
      "metadata": {
        "id": "zEkoa0YO-KxR",
        "colab_type": "text"
      },
      "source": [
        "### LTDEPTH\n",
        "Lot depth in feet"
      ]
    },
    {
      "cell_type": "code",
      "metadata": {
        "id": "bsjJwVpO-OLE",
        "colab_type": "code",
        "colab": {
          "base_uri": "https://localhost:8080/",
          "height": 170
        },
        "outputId": "50987444-77d2-4192-c0b4-e9901d5aeb62"
      },
      "source": [
        "data['LTDEPTH'].describe()"
      ],
      "execution_count": 23,
      "outputs": [
        {
          "output_type": "execute_result",
          "data": {
            "text/plain": [
              "count    900866.000000\n",
              "mean        105.643052\n",
              "std          71.873122\n",
              "min           1.000000\n",
              "25%          97.000000\n",
              "50%         100.000000\n",
              "75%         100.000000\n",
              "max        9999.000000\n",
              "Name: LTDEPTH, dtype: float64"
            ]
          },
          "metadata": {
            "tags": []
          },
          "execution_count": 23
        }
      ]
    },
    {
      "cell_type": "code",
      "metadata": {
        "id": "3U6gfSF3Z2_A",
        "colab_type": "code",
        "colab": {
          "base_uri": "https://localhost:8080/",
          "height": 344
        },
        "outputId": "5285f564-b33b-4656-abbd-f9483c9be0a8"
      },
      "source": [
        "plot_hist(data, 'LTDEPTH', xhigh=220)"
      ],
      "execution_count": 24,
      "outputs": [
        {
          "output_type": "display_data",
          "data": {
            "image/png": "[encoded data removed]",
            "text/plain": [
              "<Figure size 460.8x345.6 with 1 Axes>"
            ]
          },
          "metadata": {
            "tags": []
          }
        }
      ]
    },
    {
      "cell_type": "markdown",
      "metadata": {
        "id": "CUOdjz7_-OON",
        "colab_type": "text"
      },
      "source": [
        "### BLDFRONT\n",
        "Building width in feet"
      ]
    },
    {
      "cell_type": "code",
      "metadata": {
        "id": "uWSE4wnc-OFh",
        "colab_type": "code",
        "colab": {
          "base_uri": "https://localhost:8080/",
          "height": 170
        },
        "outputId": "f7eb2f60-0513-4742-807b-25e73255f567"
      },
      "source": [
        "data['BLDFRONT'].describe()"
      ],
      "execution_count": 25,
      "outputs": [
        {
          "output_type": "execute_result",
          "data": {
            "text/plain": [
              "count    842179.000000\n",
              "mean         29.303352\n",
              "std          37.767716\n",
              "min           1.000000\n",
              "25%          18.000000\n",
              "50%          20.000000\n",
              "75%          25.000000\n",
              "max        7575.000000\n",
              "Name: BLDFRONT, dtype: float64"
            ]
          },
          "metadata": {
            "tags": []
          },
          "execution_count": 25
        }
      ]
    },
    {
      "cell_type": "code",
      "metadata": {
        "id": "nPo6YlkeafPo",
        "colab_type": "code",
        "colab": {
          "base_uri": "https://localhost:8080/",
          "height": 344
        },
        "outputId": "43fb855c-b569-41b1-92ad-c76ebf9630b4"
      },
      "source": [
        "plot_hist(data, 'BLDFRONT', xhigh=210)"
      ],
      "execution_count": 26,
      "outputs": [
        {
          "output_type": "display_data",
          "data": {
            "image/png": "[encoded data removed]",
            "text/plain": [
              "<Figure size 460.8x345.6 with 1 Axes>"
            ]
          },
          "metadata": {
            "tags": []
          }
        }
      ]
    },
    {
      "cell_type": "markdown",
      "metadata": {
        "id": "g61ULK5d-Tfj",
        "colab_type": "text"
      },
      "source": [
        "### BLDDEPT\n",
        "Building depth in feet"
      ]
    },
    {
      "cell_type": "code",
      "metadata": {
        "id": "OFZhES_B-ZOa",
        "colab_type": "code",
        "colab": {
          "base_uri": "https://localhost:8080/",
          "height": 170
        },
        "outputId": "780cd835-37f2-4775-a85c-716f9b184ac0"
      },
      "source": [
        "data['BLDDEPTH'].describe()"
      ],
      "execution_count": 27,
      "outputs": [
        {
          "output_type": "execute_result",
          "data": {
            "text/plain": [
              "count    842141.000000\n",
              "mean         50.771923\n",
              "std          42.056149\n",
              "min           1.000000\n",
              "25%          35.000000\n",
              "50%          44.000000\n",
              "75%          55.000000\n",
              "max        9393.000000\n",
              "Name: BLDDEPTH, dtype: float64"
            ]
          },
          "metadata": {
            "tags": []
          },
          "execution_count": 27
        }
      ]
    },
    {
      "cell_type": "code",
      "metadata": {
        "id": "48MJt8J4a6M4",
        "colab_type": "code",
        "colab": {
          "base_uri": "https://localhost:8080/",
          "height": 344
        },
        "outputId": "8cffeb3d-8ffd-40cd-9c60-39eaebcd9ec9"
      },
      "source": [
        "plot_hist(data, 'BLDDEPTH', xhigh=210)"
      ],
      "execution_count": 28,
      "outputs": [
        {
          "output_type": "display_data",
          "data": {
            "image/png": "[encoded data removed]",
            "text/plain": [
              "<Figure size 460.8x345.6 with 1 Axes>"
            ]
          },
          "metadata": {
            "tags": []
          }
        }
      ]
    },
    {
      "cell_type": "markdown",
      "metadata": {
        "id": "rwqnjVTg-ZJA",
        "colab_type": "text"
      },
      "source": [
        "### FULLVAL\n",
        "Market value of the property"
      ]
    },
    {
      "cell_type": "code",
      "metadata": {
        "id": "gzgUUVOt-e4B",
        "colab_type": "code",
        "colab": {
          "base_uri": "https://localhost:8080/",
          "height": 170
        },
        "outputId": "3d42d43d-773e-44fa-ace0-83b9ffa27bf9"
      },
      "source": [
        "data['FULLVAL'].describe()"
      ],
      "execution_count": 29,
      "outputs": [
        {
          "output_type": "execute_result",
          "data": {
            "text/plain": [
              "count    1.057987e+06\n",
              "mean     8.850128e+05\n",
              "std      1.165300e+07\n",
              "min      4.000000e+00\n",
              "25%      3.110000e+05\n",
              "50%      4.500000e+05\n",
              "75%      6.230000e+05\n",
              "max      6.150000e+09\n",
              "Name: FULLVAL, dtype: float64"
            ]
          },
          "metadata": {
            "tags": []
          },
          "execution_count": 29
        }
      ]
    },
    {
      "cell_type": "code",
      "metadata": {
        "id": "_61lv3B1czOB",
        "colab_type": "code",
        "colab": {
          "base_uri": "https://localhost:8080/",
          "height": 344
        },
        "outputId": "76e6d191-0d3b-47ac-b47d-5a5b62c6346b"
      },
      "source": [
        "plot_hist(data, 'FULLVAL', xhigh=1600000)"
      ],
      "execution_count": 30,
      "outputs": [
        {
          "output_type": "display_data",
          "data": {
            "image/png": "[encoded data removed]",
            "text/plain": [
              "<Figure size 460.8x345.6 with 1 Axes>"
            ]
          },
          "metadata": {
            "tags": []
          }
        }
      ]
    },
    {
      "cell_type": "markdown",
      "metadata": {
        "id": "nSSCMDSe-e7d",
        "colab_type": "text"
      },
      "source": [
        "### AVLAND\n",
        "Actual land value of the property"
      ]
    },
    {
      "cell_type": "code",
      "metadata": {
        "id": "G-EEbyKn-Tao",
        "colab_type": "code",
        "colab": {
          "base_uri": "https://localhost:8080/",
          "height": 170
        },
        "outputId": "47f75c2a-aaf1-491a-dff8-c2ad23aa13fb"
      },
      "source": [
        "data['AVLAND'].describe()"
      ],
      "execution_count": 31,
      "outputs": [
        {
          "output_type": "execute_result",
          "data": {
            "text/plain": [
              "count    1.057985e+06\n",
              "mean     8.611392e+04\n",
              "std      4.082117e+06\n",
              "min      1.000000e+00\n",
              "25%      9.445000e+03\n",
              "50%      1.378200e+04\n",
              "75%      1.986000e+04\n",
              "max      2.668500e+09\n",
              "Name: AVLAND, dtype: float64"
            ]
          },
          "metadata": {
            "tags": []
          },
          "execution_count": 31
        }
      ]
    },
    {
      "cell_type": "code",
      "metadata": {
        "id": "O-TjzgQ8dVo8",
        "colab_type": "code",
        "colab": {
          "base_uri": "https://localhost:8080/",
          "height": 344
        },
        "outputId": "e00cc6d7-0a15-45d3-b143-7085a5b4e1c3"
      },
      "source": [
        "plot_hist(data, 'AVLAND', xhigh=50000)"
      ],
      "execution_count": 32,
      "outputs": [
        {
          "output_type": "display_data",
          "data": {
            "image/png": "[encoded data removed]",
            "text/plain": [
              "<Figure size 460.8x345.6 with 1 Axes>"
            ]
          },
          "metadata": {
            "tags": []
          }
        }
      ]
    },
    {
      "cell_type": "markdown",
      "metadata": {
        "id": "INDeTqXF-i9V",
        "colab_type": "text"
      },
      "source": [
        "### AVTOT\n",
        "Actual total value of the property"
      ]
    },
    {
      "cell_type": "code",
      "metadata": {
        "id": "B355Ss2i-nPP",
        "colab_type": "code",
        "colab": {
          "base_uri": "https://localhost:8080/",
          "height": 170
        },
        "outputId": "7c317293-587d-4688-cc70-684b261aaa87"
      },
      "source": [
        "data['AVTOT'].describe()"
      ],
      "execution_count": 33,
      "outputs": [
        {
          "output_type": "execute_result",
          "data": {
            "text/plain": [
              "count    1.057987e+06\n",
              "mean     2.300319e+05\n",
              "std      6.919630e+06\n",
              "min      1.000000e+00\n",
              "25%      1.865700e+04\n",
              "50%      2.556000e+04\n",
              "75%      4.625000e+04\n",
              "max      4.668309e+09\n",
              "Name: AVTOT, dtype: float64"
            ]
          },
          "metadata": {
            "tags": []
          },
          "execution_count": 33
        }
      ]
    },
    {
      "cell_type": "code",
      "metadata": {
        "id": "XLa5cRGjdzU-",
        "colab_type": "code",
        "colab": {
          "base_uri": "https://localhost:8080/",
          "height": 344
        },
        "outputId": "82a6f2e8-7ece-42b4-8f00-7601f862dfc9"
      },
      "source": [
        "plot_hist(data, 'AVTOT', xhigh=100000)"
      ],
      "execution_count": 34,
      "outputs": [
        {
          "output_type": "display_data",
          "data": {
            "image/png": "[encoded data removed]",
            "text/plain": [
              "<Figure size 460.8x345.6 with 1 Axes>"
            ]
          },
          "metadata": {
            "tags": []
          }
        }
      ]
    },
    {
      "cell_type": "markdown",
      "metadata": {
        "id": "dHnVCBQ--nKB",
        "colab_type": "text"
      },
      "source": [
        "### STORIES\n",
        "Number of stories for the building (# of floors)"
      ]
    },
    {
      "cell_type": "code",
      "metadata": {
        "id": "gPEyVBVa94lZ",
        "colab_type": "code",
        "colab": {
          "base_uri": "https://localhost:8080/",
          "height": 170
        },
        "outputId": "659e2e28-331f-4472-dc28-e261a32c00ad"
      },
      "source": [
        "data['STORIES'].describe()"
      ],
      "execution_count": 35,
      "outputs": [
        {
          "output_type": "execute_result",
          "data": {
            "text/plain": [
              "count    1.014730e+06\n",
              "mean     5.006918e+00\n",
              "std      8.365707e+00\n",
              "min      1.000000e+00\n",
              "25%      2.000000e+00\n",
              "50%      2.000000e+00\n",
              "75%      3.000000e+00\n",
              "max      1.190000e+02\n",
              "Name: STORIES, dtype: float64"
            ]
          },
          "metadata": {
            "tags": []
          },
          "execution_count": 35
        }
      ]
    },
    {
      "cell_type": "code",
      "metadata": {
        "id": "FsP1aXGtd8eI",
        "colab_type": "code",
        "colab": {
          "base_uri": "https://localhost:8080/",
          "height": 344
        },
        "outputId": "db5a8243-16c6-4b5c-e5a2-276c2413ab1e"
      },
      "source": [
        "plot_hist(data, 'STORIES', xhigh=50)"
      ],
      "execution_count": 36,
      "outputs": [
        {
          "output_type": "display_data",
          "data": {
            "image/png": "[encoded data removed]",
            "text/plain": [
              "<Figure size 460.8x345.6 with 1 Axes>"
            ]
          },
          "metadata": {
            "tags": []
          }
        }
      ]
    },
    {
      "cell_type": "markdown",
      "metadata": {
        "id": "vaWkbUrjXpAc",
        "colab_type": "text"
      },
      "source": [
        "## Data Cleaning"
      ]
    },
    {
      "cell_type": "markdown",
      "metadata": {
        "id": "12Q8KgUmhrh3",
        "colab_type": "text"
      },
      "source": [
        "I impute the missing values in FULLVAL, AVLAND, AVTOT, LTFRONT, LTDEPTH, BLDFRONT, BLDDEPTH, STORIES, and ZIP fields."
      ]
    },
    {
      "cell_type": "code",
      "metadata": {
        "id": "rQGoaJlvrzr9",
        "colab_type": "code",
        "colab": {
          "base_uri": "https://localhost:8080/",
          "height": 289
        },
        "outputId": "f1ed94d7-ecad-4da7-e2de-108ecf1dd3c1"
      },
      "source": [
        "data.isna().sum()"
      ],
      "execution_count": 37,
      "outputs": [
        {
          "output_type": "execute_result",
          "data": {
            "text/plain": [
              "RECORD           0\n",
              "B                0\n",
              "BLOCK            0\n",
              "LOT              0\n",
              "STADDR         676\n",
              "ZIP          29890\n",
              "TAXCLASS         0\n",
              "LTFRONT     169108\n",
              "LTDEPTH     170128\n",
              "BLDFRONT    228815\n",
              "BLDDEPTH    228853\n",
              "FULLVAL      13007\n",
              "AVLAND       13009\n",
              "AVTOT        13007\n",
              "STORIES      56264\n",
              "dtype: int64"
            ]
          },
          "metadata": {
            "tags": []
          },
          "execution_count": 37
        }
      ]
    },
    {
      "cell_type": "markdown",
      "metadata": {
        "id": "KmXcjZbXf4-a",
        "colab_type": "text"
      },
      "source": [
        "### ZIP"
      ]
    },
    {
      "cell_type": "markdown",
      "metadata": {
        "id": "t5uORbrVf44Z",
        "colab_type": "text"
      },
      "source": [
        "I use the address in STADDR field to fill in the ZIP code. If there are several values in one group, I use the mode of that group. Then, I iterate the process using B+BLOCK+LOT, B+BLOCK, and B."
      ]
    },
    {
      "cell_type": "code",
      "metadata": {
        "id": "JZMN5mwgqcqt",
        "colab_type": "code",
        "colab": {}
      },
      "source": [
        "def most_frequent(df, col):\n",
        "    idx = df.reset_index()['count'].idxmax()\n",
        "    return df[col].iloc[idx]"
      ],
      "execution_count": 38,
      "outputs": []
    },
    {
      "cell_type": "code",
      "metadata": {
        "id": "x8Ah5LgzqbpN",
        "colab_type": "code",
        "colab": {}
      },
      "source": [
        "def replace_null(df, colname, linkingnames):   \n",
        "    for linkingname in linkingnames:\n",
        "        initialnull = df[colname].isna().sum()\n",
        "        temp = df.groupby([linkingname, colname]).size().reset_index().rename(columns={0:'count'})\n",
        "        temp = temp.groupby(linkingname).apply(most_frequent, col=colname)\n",
        "        df['mode_'+colname+'_groupby_'+linkingname] = df[linkingname].map(temp)\n",
        "        df[colname] = np.where(df[colname].isna()==True, df['mode_'+colname+'_groupby_'+linkingname], df[colname])\n",
        "        endnull = df[colname].isna().sum()\n",
        "        print(f'using {linkingname} - initial: {initialnull} null values, replaced: {initialnull-endnull} null values, remaining: {endnull} null values')\n",
        "        df.drop(columns='mode_'+colname+'_groupby_'+linkingname, inplace=True)\n",
        "    return df"
      ],
      "execution_count": 39,
      "outputs": []
    },
    {
      "cell_type": "code",
      "metadata": {
        "id": "ZjNPB6DAk6Tl",
        "colab_type": "code",
        "colab": {}
      },
      "source": [
        "data['BBL'] = data['B'] + data['BLOCK'] + data['LOT']\n",
        "data['BB'] = data['B'] + data['BLOCK']"
      ],
      "execution_count": 40,
      "outputs": []
    },
    {
      "cell_type": "code",
      "metadata": {
        "id": "zKIUhcOelhYu",
        "colab_type": "code",
        "colab": {
          "base_uri": "https://localhost:8080/",
          "height": 85
        },
        "outputId": "fbfb2e47-ecb0-40cc-f1f8-332f1c3a6a9f"
      },
      "source": [
        "data = replace_null(data, 'ZIP', ['STADDR','BBL','BB','B'])"
      ],
      "execution_count": 41,
      "outputs": [
        {
          "output_type": "stream",
          "text": [
            "using STADDR - initial: 29890 null values, replaced: 17527 null values, remaining: 12363 null values\n",
            "using BBL - initial: 12363 null values, replaced: 1934 null values, remaining: 10429 null values\n",
            "using BB - initial: 10429 null values, replaced: 10012 null values, remaining: 417 null values\n",
            "using B - initial: 417 null values, replaced: 417 null values, remaining: 0 null values\n"
          ],
          "name": "stdout"
        }
      ]
    },
    {
      "cell_type": "markdown",
      "metadata": {
        "id": "HBFmd3IOv9DM",
        "colab_type": "text"
      },
      "source": [
        "### Property values and sizes"
      ]
    },
    {
      "cell_type": "markdown",
      "metadata": {
        "id": "qQLxm-nYfxK6",
        "colab_type": "text"
      },
      "source": [
        "I fill the missing values in the property value and size fields with the median value of the linking fields for each record. I use the median instead of the mean, as the distributions of the numerical fields are mostly right-skewed. For the linking fields, I use (ZIP, TAXCLASS), (B, TAXCLASS), TAXCLASS and then B.\n",
        "- The neighborhood could be a good predictor since lot area for properties would be comparable neighborhood-to-neighborhood. \n",
        "- Similarly, TAXCLASS group similar buildings by incorporating building class, no. of units, no. of apartments, utilities, and etc."
      ]
    },
    {
      "cell_type": "code",
      "metadata": {
        "id": "DQcHdTJefVPd",
        "colab_type": "code",
        "colab": {
          "base_uri": "https://localhost:8080/",
          "height": 153
        },
        "outputId": "7648b102-2d6b-4120-b88e-3dfb986d49df"
      },
      "source": [
        "numerical"
      ],
      "execution_count": 42,
      "outputs": [
        {
          "output_type": "execute_result",
          "data": {
            "text/plain": [
              "['LTFRONT',\n",
              " 'LTDEPTH',\n",
              " 'BLDFRONT',\n",
              " 'BLDDEPTH',\n",
              " 'FULLVAL',\n",
              " 'AVLAND',\n",
              " 'AVTOT',\n",
              " 'STORIES']"
            ]
          },
          "metadata": {
            "tags": []
          },
          "execution_count": 42
        }
      ]
    },
    {
      "cell_type": "code",
      "metadata": {
        "id": "uHaR_HghXpBG",
        "colab_type": "code",
        "colab": {}
      },
      "source": [
        "linkings = [['ZIP','TAXCLASS'],['B','TAXCLASS'],'TAXCLASS','B']\n",
        "for link in linkings:\n",
        "    for col in numerical[:-1]:\n",
        "        data['group_count'] = data.groupby(link)[col].transform('count')\n",
        "        group_gt_5 = data.group_count > 5\n",
        "        data.loc[group_gt_5, col] = data.loc[group_gt_5, col].fillna(data.groupby(link)[col].transform('median'))\n",
        "    if data[numerical].isna().sum().sum() == 0:\n",
        "        break\n",
        "data.drop(columns='group_count', inplace=True)"
      ],
      "execution_count": 43,
      "outputs": []
    },
    {
      "cell_type": "markdown",
      "metadata": {
        "id": "zYGJWa-2md7p",
        "colab_type": "text"
      },
      "source": [
        "### STORIES"
      ]
    },
    {
      "cell_type": "markdown",
      "metadata": {
        "id": "mYmQBbK7meAx",
        "colab_type": "text"
      },
      "source": [
        "I fill the missing values in the STORIES with the median value of the linking fields for each record. For the linking fields, I use the building area (BLDFRONT*BLDDEPTH), ZIP, and then TAXCLASS. For the building area, I divide it into 10 different bins of equal size and use the median value of that bin."
      ]
    },
    {
      "cell_type": "code",
      "metadata": {
        "id": "9cIg1dBew-42",
        "colab_type": "code",
        "colab": {}
      },
      "source": [
        "data['bldarea_bins'] = pd.qcut(data['BLDFRONT'] * data['BLDDEPTH'], 10, labels=False)\n",
        "linkings = ['bldarea_bins','ZIP','TAXCLASS']\n",
        "for link in linkings:\n",
        "    col = 'STORIES'\n",
        "    data['group_count'] = data.groupby(link)[col].transform('count')\n",
        "    group_gt_5 = data.group_count > 5\n",
        "    data.loc[group_gt_5, col] = data.loc[group_gt_5, col].fillna(data.groupby(link)[col].transform('median'))\n",
        "    if data[numerical].isna().sum().sum() == 0:\n",
        "        break\n",
        "data.drop(columns='group_count', inplace=True)\n",
        "data.drop(columns='bldarea_bins', inplace=True)"
      ],
      "execution_count": 44,
      "outputs": []
    },
    {
      "cell_type": "code",
      "metadata": {
        "id": "25PvrDTvx3en",
        "colab_type": "code",
        "colab": {
          "base_uri": "https://localhost:8080/",
          "height": 323
        },
        "outputId": "21c52c8b-d5ae-4e40-8c08-f40e944bd83d"
      },
      "source": [
        "data.isna().sum()"
      ],
      "execution_count": 45,
      "outputs": [
        {
          "output_type": "execute_result",
          "data": {
            "text/plain": [
              "RECORD        0\n",
              "B             0\n",
              "BLOCK         0\n",
              "LOT           0\n",
              "STADDR      676\n",
              "ZIP           0\n",
              "TAXCLASS      0\n",
              "LTFRONT       0\n",
              "LTDEPTH       0\n",
              "BLDFRONT      0\n",
              "BLDDEPTH      0\n",
              "FULLVAL       0\n",
              "AVLAND        0\n",
              "AVTOT         0\n",
              "STORIES       0\n",
              "BBL           0\n",
              "BB            0\n",
              "dtype: int64"
            ]
          },
          "metadata": {
            "tags": []
          },
          "execution_count": 45
        }
      ]
    },
    {
      "cell_type": "markdown",
      "metadata": {
        "id": "TRByx6nHXpCB",
        "colab_type": "text"
      },
      "source": [
        "## Feature Engineering"
      ]
    },
    {
      "cell_type": "markdown",
      "metadata": {
        "id": "Z-YpUdR14XzX",
        "colab_type": "text"
      },
      "source": [
        "Here, I create 45 expert variables which might be able to capture anomalies in the property values. I normalize the property value variables using the size and calculate the ratio comparing them to the average value of different entities."
      ]
    },
    {
      "cell_type": "markdown",
      "metadata": {
        "id": "j2Iyg86_717J",
        "colab_type": "text"
      },
      "source": [
        "I first create the following 3 variables for lot area, building area, building volume:\n",
        "$$ lotarea = LTFRONT * LTDEPTH \\\\\n",
        "bldarea = BLDFRONT * BLDDEPTH \\\\\n",
        "bldvol = bldarea * STORIES $$"
      ]
    },
    {
      "cell_type": "code",
      "metadata": {
        "id": "pTpGhkdrXpCQ",
        "colab_type": "code",
        "colab": {}
      },
      "source": [
        "data['lotarea'] = data['LTFRONT'] * data['LTDEPTH']\n",
        "data['bldarea'] = data['BLDFRONT'] * data['BLDDEPTH']\n",
        "data['bldvol'] = data['bldarea'] * data['STORIES']"
      ],
      "execution_count": 46,
      "outputs": []
    },
    {
      "cell_type": "markdown",
      "metadata": {
        "id": "DPb5EVIPXpCf",
        "colab_type": "text"
      },
      "source": [
        "Next, I normalize the FULLVAL, AVLAND, and AVTOT by the areas and volume."
      ]
    },
    {
      "cell_type": "code",
      "metadata": {
        "id": "ibssJPOQXpCf",
        "colab_type": "code",
        "colab": {}
      },
      "source": [
        "for i in ['FULLVAL','AVLAND','AVTOT']:\n",
        "    for j in ['lotarea','bldarea','bldvol']:\n",
        "        data[i.lower()+'_'+j] = data[i] / data[j]"
      ],
      "execution_count": 47,
      "outputs": []
    },
    {
      "cell_type": "markdown",
      "metadata": {
        "id": "CJb_qBNl13Ui",
        "colab_type": "text"
      },
      "source": [
        "I group the 9 normalized values by 4 different entities (zip3, zip5, taxclass, borough) and calculate the average."
      ]
    },
    {
      "cell_type": "code",
      "metadata": {
        "id": "7qhLFjP3_Gdv",
        "colab_type": "code",
        "colab": {}
      },
      "source": [
        "vars = data.columns[::-1][:9][::-1].tolist()\n",
        "data['zip3'] = data['ZIP'].str[:3]\n",
        "data['zip5'] = data['ZIP'].str[:5]\n",
        "groups = ['zip3','zip5','TAXCLASS','B']\n",
        "\n",
        "for i in vars:\n",
        "    for j in groups:\n",
        "        data[i+'_'+j.lower()]=data.groupby(j)[i].transform('mean')"
      ],
      "execution_count": 48,
      "outputs": []
    },
    {
      "cell_type": "markdown",
      "metadata": {
        "id": "f9lwc2EB_-hJ",
        "colab_type": "text"
      },
      "source": [
        "Then, I divide the 9 normalized values by the average of each group to check anomalies compared to each entity. I also divide the 9 normalized values by their own averages."
      ]
    },
    {
      "cell_type": "code",
      "metadata": {
        "id": "IJGQNa4tAvxY",
        "colab_type": "code",
        "colab": {}
      },
      "source": [
        "for i in vars:\n",
        "    data[i+'_mean_ratio'] = data[i] / data[i].mean()\n",
        "    for j in map(str.lower, groups):\n",
        "        data[i+'_'+j+'_ratio'] = data[i] / data[i+'_'+j]"
      ],
      "execution_count": 49,
      "outputs": []
    },
    {
      "cell_type": "markdown",
      "metadata": {
        "id": "j234jRaC-EeW",
        "colab_type": "text"
      },
      "source": [
        "Now I have created 45 expert variables."
      ]
    },
    {
      "cell_type": "code",
      "metadata": {
        "id": "9sudEWFICxlF",
        "colab_type": "code",
        "colab": {}
      },
      "source": [
        "df = data[data.columns[::-1][:45][::-1]]"
      ],
      "execution_count": 50,
      "outputs": []
    },
    {
      "cell_type": "code",
      "metadata": {
        "id": "7ZBhu67eD0kn",
        "colab_type": "code",
        "colab": {
          "base_uri": "https://localhost:8080/",
          "height": 439
        },
        "outputId": "284fb367-0356-4f78-85ef-76ef870c26a0"
      },
      "source": [
        "df"
      ],
      "execution_count": 51,
      "outputs": [
        {
          "output_type": "execute_result",
          "data": {
            "text/html": [
              "<div>\n",
              "<style scoped>\n",
              "    .dataframe tbody tr th:only-of-type {\n",
              "        vertical-align: middle;\n",
              "    }\n",
              "\n",
              "    .dataframe tbody tr th {\n",
              "        vertical-align: top;\n",
              "    }\n",
              "\n",
              "    .dataframe thead th {\n",
              "        text-align: right;\n",
              "    }\n",
              "</style>\n",
              "<table border=\"1\" class=\"dataframe\">\n",
              "  <thead>\n",
              "    <tr style=\"text-align: right;\">\n",
              "      <th></th>\n",
              "      <th>fullval_lotarea_mean_ratio</th>\n",
              "      <th>fullval_lotarea_zip3_ratio</th>\n",
              "      <th>fullval_lotarea_zip5_ratio</th>\n",
              "      <th>fullval_lotarea_taxclass_ratio</th>\n",
              "      <th>fullval_lotarea_b_ratio</th>\n",
              "      <th>fullval_bldarea_mean_ratio</th>\n",
              "      <th>fullval_bldarea_zip3_ratio</th>\n",
              "      <th>fullval_bldarea_zip5_ratio</th>\n",
              "      <th>fullval_bldarea_taxclass_ratio</th>\n",
              "      <th>fullval_bldarea_b_ratio</th>\n",
              "      <th>fullval_bldvol_mean_ratio</th>\n",
              "      <th>fullval_bldvol_zip3_ratio</th>\n",
              "      <th>fullval_bldvol_zip5_ratio</th>\n",
              "      <th>fullval_bldvol_taxclass_ratio</th>\n",
              "      <th>fullval_bldvol_b_ratio</th>\n",
              "      <th>avland_lotarea_mean_ratio</th>\n",
              "      <th>avland_lotarea_zip3_ratio</th>\n",
              "      <th>avland_lotarea_zip5_ratio</th>\n",
              "      <th>avland_lotarea_taxclass_ratio</th>\n",
              "      <th>avland_lotarea_b_ratio</th>\n",
              "      <th>avland_bldarea_mean_ratio</th>\n",
              "      <th>avland_bldarea_zip3_ratio</th>\n",
              "      <th>avland_bldarea_zip5_ratio</th>\n",
              "      <th>avland_bldarea_taxclass_ratio</th>\n",
              "      <th>avland_bldarea_b_ratio</th>\n",
              "      <th>avland_bldvol_mean_ratio</th>\n",
              "      <th>avland_bldvol_zip3_ratio</th>\n",
              "      <th>avland_bldvol_zip5_ratio</th>\n",
              "      <th>avland_bldvol_taxclass_ratio</th>\n",
              "      <th>avland_bldvol_b_ratio</th>\n",
              "      <th>avtot_lotarea_mean_ratio</th>\n",
              "      <th>avtot_lotarea_zip3_ratio</th>\n",
              "      <th>avtot_lotarea_zip5_ratio</th>\n",
              "      <th>avtot_lotarea_taxclass_ratio</th>\n",
              "      <th>avtot_lotarea_b_ratio</th>\n",
              "      <th>avtot_bldarea_mean_ratio</th>\n",
              "      <th>avtot_bldarea_zip3_ratio</th>\n",
              "      <th>avtot_bldarea_zip5_ratio</th>\n",
              "      <th>avtot_bldarea_taxclass_ratio</th>\n",
              "      <th>avtot_bldarea_b_ratio</th>\n",
              "      <th>avtot_bldvol_mean_ratio</th>\n",
              "      <th>avtot_bldvol_zip3_ratio</th>\n",
              "      <th>avtot_bldvol_zip5_ratio</th>\n",
              "      <th>avtot_bldvol_taxclass_ratio</th>\n",
              "      <th>avtot_bldvol_b_ratio</th>\n",
              "    </tr>\n",
              "  </thead>\n",
              "  <tbody>\n",
              "    <tr>\n",
              "      <th>0</th>\n",
              "      <td>0.193112</td>\n",
              "      <td>0.107641</td>\n",
              "      <td>0.120902</td>\n",
              "      <td>0.173844</td>\n",
              "      <td>0.110201</td>\n",
              "      <td>1.149369</td>\n",
              "      <td>1.182468</td>\n",
              "      <td>1.565216</td>\n",
              "      <td>0.988594</td>\n",
              "      <td>1.207129</td>\n",
              "      <td>0.193792</td>\n",
              "      <td>0.360492</td>\n",
              "      <td>0.384012</td>\n",
              "      <td>0.189663</td>\n",
              "      <td>0.370657</td>\n",
              "      <td>0.775458</td>\n",
              "      <td>0.220222</td>\n",
              "      <td>0.170687</td>\n",
              "      <td>0.192950</td>\n",
              "      <td>0.227662</td>\n",
              "      <td>3.698911</td>\n",
              "      <td>1.954630</td>\n",
              "      <td>1.401215</td>\n",
              "      <td>0.687565</td>\n",
              "      <td>2.018793</td>\n",
              "      <td>0.620841</td>\n",
              "      <td>0.427613</td>\n",
              "      <td>0.198695</td>\n",
              "      <td>0.115709</td>\n",
              "      <td>0.446991</td>\n",
              "      <td>0.706178</td>\n",
              "      <td>0.181227</td>\n",
              "      <td>0.132302</td>\n",
              "      <td>0.173743</td>\n",
              "      <td>0.186480</td>\n",
              "      <td>4.520677</td>\n",
              "      <td>1.990588</td>\n",
              "      <td>1.682048</td>\n",
              "      <td>0.934720</td>\n",
              "      <td>2.043871</td>\n",
              "      <td>0.887007</td>\n",
              "      <td>0.641420</td>\n",
              "      <td>0.404526</td>\n",
              "      <td>0.180991</td>\n",
              "      <td>0.667763</td>\n",
              "    </tr>\n",
              "    <tr>\n",
              "      <th>1</th>\n",
              "      <td>163.650692</td>\n",
              "      <td>91.219065</td>\n",
              "      <td>102.456873</td>\n",
              "      <td>147.321941</td>\n",
              "      <td>93.388668</td>\n",
              "      <td>10.408775</td>\n",
              "      <td>10.708515</td>\n",
              "      <td>14.174714</td>\n",
              "      <td>8.952783</td>\n",
              "      <td>10.931848</td>\n",
              "      <td>1.754991</td>\n",
              "      <td>3.264644</td>\n",
              "      <td>3.477643</td>\n",
              "      <td>1.717603</td>\n",
              "      <td>3.356701</td>\n",
              "      <td>245.746431</td>\n",
              "      <td>69.789329</td>\n",
              "      <td>54.091684</td>\n",
              "      <td>61.146830</td>\n",
              "      <td>72.147242</td>\n",
              "      <td>12.526664</td>\n",
              "      <td>6.619515</td>\n",
              "      <td>4.745327</td>\n",
              "      <td>2.328495</td>\n",
              "      <td>6.836806</td>\n",
              "      <td>2.102528</td>\n",
              "      <td>1.448145</td>\n",
              "      <td>0.672898</td>\n",
              "      <td>0.391859</td>\n",
              "      <td>1.513771</td>\n",
              "      <td>598.441383</td>\n",
              "      <td>153.578263</td>\n",
              "      <td>112.117840</td>\n",
              "      <td>147.236220</td>\n",
              "      <td>158.029788</td>\n",
              "      <td>40.939586</td>\n",
              "      <td>18.026912</td>\n",
              "      <td>15.232753</td>\n",
              "      <td>8.464896</td>\n",
              "      <td>18.509445</td>\n",
              "      <td>8.032800</td>\n",
              "      <td>5.808746</td>\n",
              "      <td>3.663417</td>\n",
              "      <td>1.639065</td>\n",
              "      <td>6.047308</td>\n",
              "    </tr>\n",
              "    <tr>\n",
              "      <th>2</th>\n",
              "      <td>1.235553</td>\n",
              "      <td>0.688699</td>\n",
              "      <td>0.773543</td>\n",
              "      <td>1.112272</td>\n",
              "      <td>0.705079</td>\n",
              "      <td>0.442408</td>\n",
              "      <td>0.455148</td>\n",
              "      <td>0.602473</td>\n",
              "      <td>0.380524</td>\n",
              "      <td>0.464640</td>\n",
              "      <td>0.323236</td>\n",
              "      <td>0.601286</td>\n",
              "      <td>0.640517</td>\n",
              "      <td>0.316350</td>\n",
              "      <td>0.618242</td>\n",
              "      <td>9.363061</td>\n",
              "      <td>2.659008</td>\n",
              "      <td>2.060920</td>\n",
              "      <td>2.329724</td>\n",
              "      <td>2.748846</td>\n",
              "      <td>2.686865</td>\n",
              "      <td>1.419831</td>\n",
              "      <td>1.017833</td>\n",
              "      <td>0.499443</td>\n",
              "      <td>1.466438</td>\n",
              "      <td>1.954224</td>\n",
              "      <td>1.345998</td>\n",
              "      <td>0.625434</td>\n",
              "      <td>0.364219</td>\n",
              "      <td>1.406995</td>\n",
              "      <td>4.518198</td>\n",
              "      <td>1.159507</td>\n",
              "      <td>0.846483</td>\n",
              "      <td>1.111625</td>\n",
              "      <td>1.193116</td>\n",
              "      <td>1.740071</td>\n",
              "      <td>0.766205</td>\n",
              "      <td>0.647443</td>\n",
              "      <td>0.359787</td>\n",
              "      <td>0.786714</td>\n",
              "      <td>1.479492</td>\n",
              "      <td>1.069862</td>\n",
              "      <td>0.674733</td>\n",
              "      <td>0.301885</td>\n",
              "      <td>1.113801</td>\n",
              "    </tr>\n",
              "    <tr>\n",
              "      <th>3</th>\n",
              "      <td>0.423408</td>\n",
              "      <td>0.236008</td>\n",
              "      <td>0.265084</td>\n",
              "      <td>0.381162</td>\n",
              "      <td>0.241622</td>\n",
              "      <td>1.414410</td>\n",
              "      <td>1.455141</td>\n",
              "      <td>1.926150</td>\n",
              "      <td>1.216561</td>\n",
              "      <td>1.485488</td>\n",
              "      <td>1.550115</td>\n",
              "      <td>2.883532</td>\n",
              "      <td>3.071667</td>\n",
              "      <td>1.517092</td>\n",
              "      <td>2.964844</td>\n",
              "      <td>3.350959</td>\n",
              "      <td>0.951636</td>\n",
              "      <td>0.737586</td>\n",
              "      <td>0.833788</td>\n",
              "      <td>0.983788</td>\n",
              "      <td>8.971218</td>\n",
              "      <td>4.740696</td>\n",
              "      <td>3.398460</td>\n",
              "      <td>1.667597</td>\n",
              "      <td>4.896314</td>\n",
              "      <td>9.787487</td>\n",
              "      <td>6.741264</td>\n",
              "      <td>3.132409</td>\n",
              "      <td>1.824143</td>\n",
              "      <td>7.046760</td>\n",
              "      <td>1.548329</td>\n",
              "      <td>0.397348</td>\n",
              "      <td>0.290079</td>\n",
              "      <td>0.380940</td>\n",
              "      <td>0.408866</td>\n",
              "      <td>5.563129</td>\n",
              "      <td>2.449611</td>\n",
              "      <td>2.069923</td>\n",
              "      <td>1.150264</td>\n",
              "      <td>2.515180</td>\n",
              "      <td>7.095059</td>\n",
              "      <td>5.130639</td>\n",
              "      <td>3.235754</td>\n",
              "      <td>1.447722</td>\n",
              "      <td>5.341351</td>\n",
              "    </tr>\n",
              "    <tr>\n",
              "      <th>4</th>\n",
              "      <td>3.157714</td>\n",
              "      <td>1.760113</td>\n",
              "      <td>1.976951</td>\n",
              "      <td>2.842643</td>\n",
              "      <td>1.801976</td>\n",
              "      <td>90.707368</td>\n",
              "      <td>93.319454</td>\n",
              "      <td>123.525674</td>\n",
              "      <td>78.019111</td>\n",
              "      <td>95.265692</td>\n",
              "      <td>198.820470</td>\n",
              "      <td>369.846962</td>\n",
              "      <td>393.977392</td>\n",
              "      <td>194.584905</td>\n",
              "      <td>380.276080</td>\n",
              "      <td>28.547851</td>\n",
              "      <td>8.107281</td>\n",
              "      <td>6.283718</td>\n",
              "      <td>7.103300</td>\n",
              "      <td>8.381195</td>\n",
              "      <td>657.218325</td>\n",
              "      <td>347.296477</td>\n",
              "      <td>248.966200</td>\n",
              "      <td>122.165751</td>\n",
              "      <td>358.696769</td>\n",
              "      <td>1434.033930</td>\n",
              "      <td>987.710310</td>\n",
              "      <td>458.951440</td>\n",
              "      <td>267.268151</td>\n",
              "      <td>1032.470703</td>\n",
              "      <td>11.547196</td>\n",
              "      <td>2.963362</td>\n",
              "      <td>2.163364</td>\n",
              "      <td>2.840989</td>\n",
              "      <td>3.049256</td>\n",
              "      <td>356.768408</td>\n",
              "      <td>157.095696</td>\n",
              "      <td>132.745969</td>\n",
              "      <td>73.767418</td>\n",
              "      <td>161.300734</td>\n",
              "      <td>910.024841</td>\n",
              "      <td>658.064816</td>\n",
              "      <td>415.023491</td>\n",
              "      <td>185.687441</td>\n",
              "      <td>685.091162</td>\n",
              "    </tr>\n",
              "    <tr>\n",
              "      <th>...</th>\n",
              "      <td>...</td>\n",
              "      <td>...</td>\n",
              "      <td>...</td>\n",
              "      <td>...</td>\n",
              "      <td>...</td>\n",
              "      <td>...</td>\n",
              "      <td>...</td>\n",
              "      <td>...</td>\n",
              "      <td>...</td>\n",
              "      <td>...</td>\n",
              "      <td>...</td>\n",
              "      <td>...</td>\n",
              "      <td>...</td>\n",
              "      <td>...</td>\n",
              "      <td>...</td>\n",
              "      <td>...</td>\n",
              "      <td>...</td>\n",
              "      <td>...</td>\n",
              "      <td>...</td>\n",
              "      <td>...</td>\n",
              "      <td>...</td>\n",
              "      <td>...</td>\n",
              "      <td>...</td>\n",
              "      <td>...</td>\n",
              "      <td>...</td>\n",
              "      <td>...</td>\n",
              "      <td>...</td>\n",
              "      <td>...</td>\n",
              "      <td>...</td>\n",
              "      <td>...</td>\n",
              "      <td>...</td>\n",
              "      <td>...</td>\n",
              "      <td>...</td>\n",
              "      <td>...</td>\n",
              "      <td>...</td>\n",
              "      <td>...</td>\n",
              "      <td>...</td>\n",
              "      <td>...</td>\n",
              "      <td>...</td>\n",
              "      <td>...</td>\n",
              "      <td>...</td>\n",
              "      <td>...</td>\n",
              "      <td>...</td>\n",
              "      <td>...</td>\n",
              "      <td>...</td>\n",
              "    </tr>\n",
              "    <tr>\n",
              "      <th>1070989</th>\n",
              "      <td>0.287104</td>\n",
              "      <td>0.445760</td>\n",
              "      <td>0.180504</td>\n",
              "      <td>0.264332</td>\n",
              "      <td>0.447327</td>\n",
              "      <td>0.948941</td>\n",
              "      <td>1.000907</td>\n",
              "      <td>0.327673</td>\n",
              "      <td>0.795347</td>\n",
              "      <td>1.002931</td>\n",
              "      <td>0.831989</td>\n",
              "      <td>0.753386</td>\n",
              "      <td>0.285291</td>\n",
              "      <td>0.656979</td>\n",
              "      <td>0.755922</td>\n",
              "      <td>0.193773</td>\n",
              "      <td>0.388565</td>\n",
              "      <td>0.144314</td>\n",
              "      <td>0.348982</td>\n",
              "      <td>0.396583</td>\n",
              "      <td>0.513287</td>\n",
              "      <td>0.602545</td>\n",
              "      <td>0.330908</td>\n",
              "      <td>1.019486</td>\n",
              "      <td>0.600368</td>\n",
              "      <td>0.447992</td>\n",
              "      <td>0.487066</td>\n",
              "      <td>0.286186</td>\n",
              "      <td>0.825608</td>\n",
              "      <td>0.488753</td>\n",
              "      <td>0.124229</td>\n",
              "      <td>0.339131</td>\n",
              "      <td>0.133103</td>\n",
              "      <td>0.332725</td>\n",
              "      <td>0.345076</td>\n",
              "      <td>0.441634</td>\n",
              "      <td>0.645734</td>\n",
              "      <td>0.324104</td>\n",
              "      <td>0.970177</td>\n",
              "      <td>0.644607</td>\n",
              "      <td>0.450598</td>\n",
              "      <td>0.517114</td>\n",
              "      <td>0.283169</td>\n",
              "      <td>0.790272</td>\n",
              "      <td>0.518777</td>\n",
              "    </tr>\n",
              "    <tr>\n",
              "      <th>1070990</th>\n",
              "      <td>0.181623</td>\n",
              "      <td>0.281989</td>\n",
              "      <td>0.114187</td>\n",
              "      <td>0.167217</td>\n",
              "      <td>0.282980</td>\n",
              "      <td>1.104932</td>\n",
              "      <td>1.165439</td>\n",
              "      <td>0.381537</td>\n",
              "      <td>0.926089</td>\n",
              "      <td>1.167796</td>\n",
              "      <td>0.968755</td>\n",
              "      <td>0.877230</td>\n",
              "      <td>0.332188</td>\n",
              "      <td>0.764976</td>\n",
              "      <td>0.880183</td>\n",
              "      <td>0.063165</td>\n",
              "      <td>0.126662</td>\n",
              "      <td>0.047043</td>\n",
              "      <td>0.113759</td>\n",
              "      <td>0.129276</td>\n",
              "      <td>0.307971</td>\n",
              "      <td>0.361525</td>\n",
              "      <td>0.198544</td>\n",
              "      <td>0.611689</td>\n",
              "      <td>0.360219</td>\n",
              "      <td>0.268794</td>\n",
              "      <td>0.292238</td>\n",
              "      <td>0.171711</td>\n",
              "      <td>0.495362</td>\n",
              "      <td>0.293251</td>\n",
              "      <td>0.040504</td>\n",
              "      <td>0.110570</td>\n",
              "      <td>0.043397</td>\n",
              "      <td>0.108482</td>\n",
              "      <td>0.112509</td>\n",
              "      <td>0.265032</td>\n",
              "      <td>0.387516</td>\n",
              "      <td>0.194501</td>\n",
              "      <td>0.582220</td>\n",
              "      <td>0.386840</td>\n",
              "      <td>0.270412</td>\n",
              "      <td>0.310329</td>\n",
              "      <td>0.169935</td>\n",
              "      <td>0.474256</td>\n",
              "      <td>0.311327</td>\n",
              "    </tr>\n",
              "    <tr>\n",
              "      <th>1070991</th>\n",
              "      <td>0.156567</td>\n",
              "      <td>0.243087</td>\n",
              "      <td>0.098435</td>\n",
              "      <td>0.144149</td>\n",
              "      <td>0.243942</td>\n",
              "      <td>1.056185</td>\n",
              "      <td>1.114023</td>\n",
              "      <td>0.364704</td>\n",
              "      <td>0.885232</td>\n",
              "      <td>1.116276</td>\n",
              "      <td>1.157520</td>\n",
              "      <td>1.048161</td>\n",
              "      <td>0.396916</td>\n",
              "      <td>0.914033</td>\n",
              "      <td>1.051689</td>\n",
              "      <td>0.098110</td>\n",
              "      <td>0.196734</td>\n",
              "      <td>0.073068</td>\n",
              "      <td>0.176693</td>\n",
              "      <td>0.200794</td>\n",
              "      <td>0.530416</td>\n",
              "      <td>0.622653</td>\n",
              "      <td>0.341951</td>\n",
              "      <td>1.053508</td>\n",
              "      <td>0.620403</td>\n",
              "      <td>0.578677</td>\n",
              "      <td>0.629150</td>\n",
              "      <td>0.369670</td>\n",
              "      <td>1.066450</td>\n",
              "      <td>0.631330</td>\n",
              "      <td>0.060898</td>\n",
              "      <td>0.166246</td>\n",
              "      <td>0.065249</td>\n",
              "      <td>0.163105</td>\n",
              "      <td>0.169160</td>\n",
              "      <td>0.441861</td>\n",
              "      <td>0.646065</td>\n",
              "      <td>0.324271</td>\n",
              "      <td>0.970676</td>\n",
              "      <td>0.644938</td>\n",
              "      <td>0.563537</td>\n",
              "      <td>0.646725</td>\n",
              "      <td>0.354143</td>\n",
              "      <td>0.988347</td>\n",
              "      <td>0.648804</td>\n",
              "    </tr>\n",
              "    <tr>\n",
              "      <th>1070992</th>\n",
              "      <td>0.362373</td>\n",
              "      <td>0.562623</td>\n",
              "      <td>0.227826</td>\n",
              "      <td>0.333630</td>\n",
              "      <td>0.564600</td>\n",
              "      <td>1.365496</td>\n",
              "      <td>1.440272</td>\n",
              "      <td>0.471511</td>\n",
              "      <td>1.144479</td>\n",
              "      <td>1.443185</td>\n",
              "      <td>1.496507</td>\n",
              "      <td>1.355123</td>\n",
              "      <td>0.513156</td>\n",
              "      <td>1.181714</td>\n",
              "      <td>1.359684</td>\n",
              "      <td>0.168128</td>\n",
              "      <td>0.337140</td>\n",
              "      <td>0.125215</td>\n",
              "      <td>0.302796</td>\n",
              "      <td>0.344097</td>\n",
              "      <td>0.507740</td>\n",
              "      <td>0.596034</td>\n",
              "      <td>0.327332</td>\n",
              "      <td>1.008470</td>\n",
              "      <td>0.593881</td>\n",
              "      <td>0.553938</td>\n",
              "      <td>0.602253</td>\n",
              "      <td>0.353866</td>\n",
              "      <td>1.020858</td>\n",
              "      <td>0.604340</td>\n",
              "      <td>0.124932</td>\n",
              "      <td>0.341050</td>\n",
              "      <td>0.133856</td>\n",
              "      <td>0.334607</td>\n",
              "      <td>0.347028</td>\n",
              "      <td>0.506346</td>\n",
              "      <td>0.740353</td>\n",
              "      <td>0.371595</td>\n",
              "      <td>1.112337</td>\n",
              "      <td>0.739061</td>\n",
              "      <td>0.645780</td>\n",
              "      <td>0.741108</td>\n",
              "      <td>0.405827</td>\n",
              "      <td>1.132588</td>\n",
              "      <td>0.743491</td>\n",
              "    </tr>\n",
              "    <tr>\n",
              "      <th>1070993</th>\n",
              "      <td>0.558084</td>\n",
              "      <td>0.866485</td>\n",
              "      <td>0.350870</td>\n",
              "      <td>0.513817</td>\n",
              "      <td>0.869530</td>\n",
              "      <td>1.110167</td>\n",
              "      <td>1.170962</td>\n",
              "      <td>0.383345</td>\n",
              "      <td>0.930477</td>\n",
              "      <td>1.173330</td>\n",
              "      <td>1.216682</td>\n",
              "      <td>1.101734</td>\n",
              "      <td>0.417203</td>\n",
              "      <td>0.960750</td>\n",
              "      <td>1.105442</td>\n",
              "      <td>0.337394</td>\n",
              "      <td>0.676561</td>\n",
              "      <td>0.251277</td>\n",
              "      <td>0.607641</td>\n",
              "      <td>0.690523</td>\n",
              "      <td>0.537890</td>\n",
              "      <td>0.631426</td>\n",
              "      <td>0.346769</td>\n",
              "      <td>1.068353</td>\n",
              "      <td>0.629145</td>\n",
              "      <td>0.586831</td>\n",
              "      <td>0.638015</td>\n",
              "      <td>0.374879</td>\n",
              "      <td>1.081477</td>\n",
              "      <td>0.640226</td>\n",
              "      <td>0.214714</td>\n",
              "      <td>0.586146</td>\n",
              "      <td>0.230053</td>\n",
              "      <td>0.575073</td>\n",
              "      <td>0.596421</td>\n",
              "      <td>0.459399</td>\n",
              "      <td>0.671709</td>\n",
              "      <td>0.337142</td>\n",
              "      <td>1.009204</td>\n",
              "      <td>0.670537</td>\n",
              "      <td>0.585905</td>\n",
              "      <td>0.672395</td>\n",
              "      <td>0.368200</td>\n",
              "      <td>1.027577</td>\n",
              "      <td>0.674557</td>\n",
              "    </tr>\n",
              "  </tbody>\n",
              "</table>\n",
              "<p>1070994 rows × 45 columns</p>\n",
              "</div>"
            ],
            "text/plain": [
              "         fullval_lotarea_mean_ratio  ...  avtot_bldvol_b_ratio\n",
              "0                          0.193112  ...              0.667763\n",
              "1                        163.650692  ...              6.047308\n",
              "2                          1.235553  ...              1.113801\n",
              "3                          0.423408  ...              5.341351\n",
              "4                          3.157714  ...            685.091162\n",
              "...                             ...  ...                   ...\n",
              "1070989                    0.287104  ...              0.518777\n",
              "1070990                    0.181623  ...              0.311327\n",
              "1070991                    0.156567  ...              0.648804\n",
              "1070992                    0.362373  ...              0.743491\n",
              "1070993                    0.558084  ...              0.674557\n",
              "\n",
              "[1070994 rows x 45 columns]"
            ]
          },
          "metadata": {
            "tags": []
          },
          "execution_count": 51
        }
      ]
    },
    {
      "cell_type": "markdown",
      "metadata": {
        "id": "PHGJH49PXpEL",
        "colab_type": "text"
      },
      "source": [
        "## Dimensionality Reduction"
      ]
    },
    {
      "cell_type": "markdown",
      "metadata": {
        "id": "CVDmdjw867ri",
        "colab_type": "text"
      },
      "source": [
        "All points become outliers as dimensionality increases, so it is important to perform dimensionality reduction for the anomaly detection model. Also, the variables might have a high correlation between them. I use Principal Component Analysis to solve the two issues.\n",
        "\n",
        "Principal Component Analysis is a tool for dimension reduction and removing correlation. It finds the dominant directions along which the variation is the most. The directions are called principal components and they are a linear combination of the original variables. The principal components are orthogonal to each other and ranked by their variability from high to low."
      ]
    },
    {
      "cell_type": "markdown",
      "metadata": {
        "id": "wTyfBtS7FKPI",
        "colab_type": "text"
      },
      "source": [
        "Before conducting PCA, I Z-scale the data to provide a fair comparison between the explained variance in the dataset"
      ]
    },
    {
      "cell_type": "code",
      "metadata": {
        "id": "xQMCbc8gE9Vp",
        "colab_type": "code",
        "colab": {}
      },
      "source": [
        "df_scale = pd.DataFrame(StandardScaler().fit_transform(df), columns=df.columns)"
      ],
      "execution_count": 52,
      "outputs": []
    },
    {
      "cell_type": "code",
      "metadata": {
        "id": "V5PzhdJiFSaR",
        "colab_type": "code",
        "colab": {}
      },
      "source": [
        "pca = PCA().fit(df_scale)\n",
        "variance = pca.explained_variance_ratio_"
      ],
      "execution_count": 53,
      "outputs": []
    },
    {
      "cell_type": "code",
      "metadata": {
        "id": "WTr_hXTGXpEt",
        "colab_type": "code",
        "colab": {
          "base_uri": "https://localhost:8080/",
          "height": 355
        },
        "outputId": "f61fd154-66fc-456a-d6ae-840801900b80"
      },
      "source": [
        "fig, ax = plt.subplots(1, 2, figsize=(14,5))\n",
        "ax_left, ax_right = ax[0], ax[1]\n",
        "ax_left.plot(range(1,len(variance)+1), variance.cumsum(), marker='o')\n",
        "ax_left.set(title='Cumulative Variance Plot', xlabel='number of PCs', ylabel='explained variance', xlim=(0,10), xticks=range(1,len(variance)+1))\n",
        "ax_right.bar(range(1,len(variance)+1), variance[0:len(variance)])\n",
        "ax_right.set(title='Scree Plot', xlabel='number of PCs', ylabel='explained variance', xlim=(0,10), xticks=range(1,len(variance)+1))\n",
        "plt.show()"
      ],
      "execution_count": 54,
      "outputs": [
        {
          "output_type": "display_data",
          "data": {
            "image/png": "[encoded data removed]",
            "text/plain": [
              "<Figure size 1008x360 with 2 Axes>"
            ]
          },
          "metadata": {
            "tags": []
          }
        }
      ]
    },
    {
      "cell_type": "markdown",
      "metadata": {
        "id": "VdTj1kHD9Xp7",
        "colab_type": "text"
      },
      "source": [
        "Based on the cumulative variance plot and scree plot, I decided to keep 6 PCs which account for more than 90% of the total variance."
      ]
    },
    {
      "cell_type": "code",
      "metadata": {
        "id": "D8r2PaUmXpF2",
        "colab_type": "code",
        "colab": {}
      },
      "source": [
        "X = pd.DataFrame(PCA(n_components=6).fit_transform(df_scale), columns=['PCA1','PCA2','PCA3','PCA4','PCA5','PCA6'])"
      ],
      "execution_count": 55,
      "outputs": []
    },
    {
      "cell_type": "code",
      "metadata": {
        "id": "Sag0UlwaJdep",
        "colab_type": "code",
        "colab": {
          "base_uri": "https://localhost:8080/",
          "height": 419
        },
        "outputId": "c1c45c4c-7a39-4816-f686-70adf77cc663"
      },
      "source": [
        "X"
      ],
      "execution_count": 56,
      "outputs": [
        {
          "output_type": "execute_result",
          "data": {
            "text/html": [
              "<div>\n",
              "<style scoped>\n",
              "    .dataframe tbody tr th:only-of-type {\n",
              "        vertical-align: middle;\n",
              "    }\n",
              "\n",
              "    .dataframe tbody tr th {\n",
              "        vertical-align: top;\n",
              "    }\n",
              "\n",
              "    .dataframe thead th {\n",
              "        text-align: right;\n",
              "    }\n",
              "</style>\n",
              "<table border=\"1\" class=\"dataframe\">\n",
              "  <thead>\n",
              "    <tr style=\"text-align: right;\">\n",
              "      <th></th>\n",
              "      <th>PCA1</th>\n",
              "      <th>PCA2</th>\n",
              "      <th>PCA3</th>\n",
              "      <th>PCA4</th>\n",
              "      <th>PCA5</th>\n",
              "      <th>PCA6</th>\n",
              "    </tr>\n",
              "  </thead>\n",
              "  <tbody>\n",
              "    <tr>\n",
              "      <th>0</th>\n",
              "      <td>-0.061964</td>\n",
              "      <td>-0.373179</td>\n",
              "      <td>-0.217208</td>\n",
              "      <td>0.078102</td>\n",
              "      <td>-0.063207</td>\n",
              "      <td>-0.032652</td>\n",
              "    </tr>\n",
              "    <tr>\n",
              "      <th>1</th>\n",
              "      <td>13.458387</td>\n",
              "      <td>69.542869</td>\n",
              "      <td>11.027085</td>\n",
              "      <td>-7.032713</td>\n",
              "      <td>0.295415</td>\n",
              "      <td>-1.357154</td>\n",
              "    </tr>\n",
              "    <tr>\n",
              "      <th>2</th>\n",
              "      <td>0.003248</td>\n",
              "      <td>0.317474</td>\n",
              "      <td>-0.127636</td>\n",
              "      <td>0.258219</td>\n",
              "      <td>0.049597</td>\n",
              "      <td>-0.108501</td>\n",
              "    </tr>\n",
              "    <tr>\n",
              "      <th>3</th>\n",
              "      <td>0.356813</td>\n",
              "      <td>-0.272843</td>\n",
              "      <td>-0.171780</td>\n",
              "      <td>0.083898</td>\n",
              "      <td>0.210065</td>\n",
              "      <td>0.039127</td>\n",
              "    </tr>\n",
              "    <tr>\n",
              "      <th>4</th>\n",
              "      <td>62.618737</td>\n",
              "      <td>-10.087979</td>\n",
              "      <td>3.456769</td>\n",
              "      <td>-9.518499</td>\n",
              "      <td>37.149781</td>\n",
              "      <td>12.789469</td>\n",
              "    </tr>\n",
              "    <tr>\n",
              "      <th>...</th>\n",
              "      <td>...</td>\n",
              "      <td>...</td>\n",
              "      <td>...</td>\n",
              "      <td>...</td>\n",
              "      <td>...</td>\n",
              "      <td>...</td>\n",
              "    </tr>\n",
              "    <tr>\n",
              "      <th>1070989</th>\n",
              "      <td>-0.140032</td>\n",
              "      <td>-0.338536</td>\n",
              "      <td>-0.079214</td>\n",
              "      <td>0.082739</td>\n",
              "      <td>-0.054801</td>\n",
              "      <td>-0.055986</td>\n",
              "    </tr>\n",
              "    <tr>\n",
              "      <th>1070990</th>\n",
              "      <td>-0.155037</td>\n",
              "      <td>-0.407944</td>\n",
              "      <td>-0.101342</td>\n",
              "      <td>0.073184</td>\n",
              "      <td>-0.036450</td>\n",
              "      <td>-0.080063</td>\n",
              "    </tr>\n",
              "    <tr>\n",
              "      <th>1070991</th>\n",
              "      <td>-0.125226</td>\n",
              "      <td>-0.409313</td>\n",
              "      <td>-0.098865</td>\n",
              "      <td>0.085700</td>\n",
              "      <td>-0.027238</td>\n",
              "      <td>-0.074841</td>\n",
              "    </tr>\n",
              "    <tr>\n",
              "      <th>1070992</th>\n",
              "      <td>-0.078408</td>\n",
              "      <td>-0.334908</td>\n",
              "      <td>-0.071593</td>\n",
              "      <td>0.020129</td>\n",
              "      <td>-0.018903</td>\n",
              "      <td>-0.085657</td>\n",
              "    </tr>\n",
              "    <tr>\n",
              "      <th>1070993</th>\n",
              "      <td>-0.090860</td>\n",
              "      <td>-0.230192</td>\n",
              "      <td>-0.029831</td>\n",
              "      <td>0.023195</td>\n",
              "      <td>-0.044853</td>\n",
              "      <td>-0.053754</td>\n",
              "    </tr>\n",
              "  </tbody>\n",
              "</table>\n",
              "<p>1070994 rows × 6 columns</p>\n",
              "</div>"
            ],
            "text/plain": [
              "              PCA1       PCA2       PCA3      PCA4       PCA5       PCA6\n",
              "0        -0.061964  -0.373179  -0.217208  0.078102  -0.063207  -0.032652\n",
              "1        13.458387  69.542869  11.027085 -7.032713   0.295415  -1.357154\n",
              "2         0.003248   0.317474  -0.127636  0.258219   0.049597  -0.108501\n",
              "3         0.356813  -0.272843  -0.171780  0.083898   0.210065   0.039127\n",
              "4        62.618737 -10.087979   3.456769 -9.518499  37.149781  12.789469\n",
              "...            ...        ...        ...       ...        ...        ...\n",
              "1070989  -0.140032  -0.338536  -0.079214  0.082739  -0.054801  -0.055986\n",
              "1070990  -0.155037  -0.407944  -0.101342  0.073184  -0.036450  -0.080063\n",
              "1070991  -0.125226  -0.409313  -0.098865  0.085700  -0.027238  -0.074841\n",
              "1070992  -0.078408  -0.334908  -0.071593  0.020129  -0.018903  -0.085657\n",
              "1070993  -0.090860  -0.230192  -0.029831  0.023195  -0.044853  -0.053754\n",
              "\n",
              "[1070994 rows x 6 columns]"
            ]
          },
          "metadata": {
            "tags": []
          },
          "execution_count": 56
        }
      ]
    },
    {
      "cell_type": "markdown",
      "metadata": {
        "id": "MPoVwHeGEgri",
        "colab_type": "text"
      },
      "source": [
        "## Algorithms"
      ]
    },
    {
      "cell_type": "markdown",
      "metadata": {
        "id": "cb9H_xLmJxtp",
        "colab_type": "text"
      },
      "source": [
        "### Z-score Distance"
      ]
    },
    {
      "cell_type": "markdown",
      "metadata": {
        "id": "WXBC1QKV_w20",
        "colab_type": "text"
      },
      "source": [
        "I do the Z-scaling again to center the PCs and treat them equally important. Now, each record has the value for each variable which explicitly shows how unusual the record is in each dimension. I call this Z-scores and combine them to a single outlierness score for each record, using the following Euclidean distance formula:\n",
        "$$\\begin{aligned} \n",
        "& score_{i} = \\sqrt{\\sum_{k}{\\text{Zscore}_{ik}}} && \\text{where $i$ refers to each record and $k \\in [1,6]$}\n",
        "\\end{aligned}$$"
      ]
    },
    {
      "cell_type": "code",
      "metadata": {
        "id": "g7FAXJBEJbtn",
        "colab_type": "code",
        "colab": {}
      },
      "source": [
        "X_scale = pd.DataFrame(StandardScaler().fit_transform(X), columns=['PCA1','PCA2','PCA3','PCA4','PCA5','PCA6'])"
      ],
      "execution_count": 57,
      "outputs": []
    },
    {
      "cell_type": "code",
      "metadata": {
        "id": "0CtNd1EfXpGx",
        "colab_type": "code",
        "colab": {}
      },
      "source": [
        "X_scale['score_distance'] = np.zeros(len(X_scale))\n",
        "for i in X_scale.columns[:-1]:\n",
        "    X_scale['score_distance'] += X_scale.loc[:,i]**2\n",
        "X_scale['score_distance'] = X_scale['score_distance']**(1/2)"
      ],
      "execution_count": 58,
      "outputs": []
    },
    {
      "cell_type": "code",
      "metadata": {
        "id": "R7DBsh1kXpG2",
        "colab_type": "code",
        "colab": {
          "base_uri": "https://localhost:8080/",
          "height": 419
        },
        "outputId": "6400fffb-3e08-47ff-cfc4-9c2b93f865f1"
      },
      "source": [
        "X_scale"
      ],
      "execution_count": 59,
      "outputs": [
        {
          "output_type": "execute_result",
          "data": {
            "text/html": [
              "<div>\n",
              "<style scoped>\n",
              "    .dataframe tbody tr th:only-of-type {\n",
              "        vertical-align: middle;\n",
              "    }\n",
              "\n",
              "    .dataframe tbody tr th {\n",
              "        vertical-align: top;\n",
              "    }\n",
              "\n",
              "    .dataframe thead th {\n",
              "        text-align: right;\n",
              "    }\n",
              "</style>\n",
              "<table border=\"1\" class=\"dataframe\">\n",
              "  <thead>\n",
              "    <tr style=\"text-align: right;\">\n",
              "      <th></th>\n",
              "      <th>PCA1</th>\n",
              "      <th>PCA2</th>\n",
              "      <th>PCA3</th>\n",
              "      <th>PCA4</th>\n",
              "      <th>PCA5</th>\n",
              "      <th>PCA6</th>\n",
              "      <th>score_distance</th>\n",
              "    </tr>\n",
              "  </thead>\n",
              "  <tbody>\n",
              "    <tr>\n",
              "      <th>0</th>\n",
              "      <td>-0.013270</td>\n",
              "      <td>-0.114136</td>\n",
              "      <td>-0.121495</td>\n",
              "      <td>0.049222</td>\n",
              "      <td>-0.046632</td>\n",
              "      <td>-0.024643</td>\n",
              "      <td>0.182123</td>\n",
              "    </tr>\n",
              "    <tr>\n",
              "      <th>1</th>\n",
              "      <td>2.882271</td>\n",
              "      <td>21.269472</td>\n",
              "      <td>6.167991</td>\n",
              "      <td>-4.432177</td>\n",
              "      <td>0.217946</td>\n",
              "      <td>-1.024290</td>\n",
              "      <td>22.792167</td>\n",
              "    </tr>\n",
              "    <tr>\n",
              "      <th>2</th>\n",
              "      <td>0.000696</td>\n",
              "      <td>0.097098</td>\n",
              "      <td>-0.071393</td>\n",
              "      <td>0.162735</td>\n",
              "      <td>0.036591</td>\n",
              "      <td>-0.081890</td>\n",
              "      <td>0.221479</td>\n",
              "    </tr>\n",
              "    <tr>\n",
              "      <th>3</th>\n",
              "      <td>0.076416</td>\n",
              "      <td>-0.083448</td>\n",
              "      <td>-0.096085</td>\n",
              "      <td>0.052875</td>\n",
              "      <td>0.154978</td>\n",
              "      <td>0.029530</td>\n",
              "      <td>0.222983</td>\n",
              "    </tr>\n",
              "    <tr>\n",
              "      <th>4</th>\n",
              "      <td>13.410536</td>\n",
              "      <td>-3.085377</td>\n",
              "      <td>1.933541</td>\n",
              "      <td>-5.998776</td>\n",
              "      <td>27.407774</td>\n",
              "      <td>9.652641</td>\n",
              "      <td>32.763477</td>\n",
              "    </tr>\n",
              "    <tr>\n",
              "      <th>...</th>\n",
              "      <td>...</td>\n",
              "      <td>...</td>\n",
              "      <td>...</td>\n",
              "      <td>...</td>\n",
              "      <td>...</td>\n",
              "      <td>...</td>\n",
              "      <td>...</td>\n",
              "    </tr>\n",
              "    <tr>\n",
              "      <th>1070989</th>\n",
              "      <td>-0.029990</td>\n",
              "      <td>-0.103540</td>\n",
              "      <td>-0.044308</td>\n",
              "      <td>0.052144</td>\n",
              "      <td>-0.040430</td>\n",
              "      <td>-0.042255</td>\n",
              "      <td>0.140436</td>\n",
              "    </tr>\n",
              "    <tr>\n",
              "      <th>1070990</th>\n",
              "      <td>-0.033203</td>\n",
              "      <td>-0.124769</td>\n",
              "      <td>-0.056686</td>\n",
              "      <td>0.046122</td>\n",
              "      <td>-0.026891</td>\n",
              "      <td>-0.060426</td>\n",
              "      <td>0.162434</td>\n",
              "    </tr>\n",
              "    <tr>\n",
              "      <th>1070991</th>\n",
              "      <td>-0.026819</td>\n",
              "      <td>-0.125187</td>\n",
              "      <td>-0.055300</td>\n",
              "      <td>0.054010</td>\n",
              "      <td>-0.020095</td>\n",
              "      <td>-0.056485</td>\n",
              "      <td>0.161123</td>\n",
              "    </tr>\n",
              "    <tr>\n",
              "      <th>1070992</th>\n",
              "      <td>-0.016792</td>\n",
              "      <td>-0.102430</td>\n",
              "      <td>-0.040045</td>\n",
              "      <td>0.012686</td>\n",
              "      <td>-0.013946</td>\n",
              "      <td>-0.064648</td>\n",
              "      <td>0.130048</td>\n",
              "    </tr>\n",
              "    <tr>\n",
              "      <th>1070993</th>\n",
              "      <td>-0.019459</td>\n",
              "      <td>-0.070404</td>\n",
              "      <td>-0.016686</td>\n",
              "      <td>0.014618</td>\n",
              "      <td>-0.033091</td>\n",
              "      <td>-0.040570</td>\n",
              "      <td>0.092565</td>\n",
              "    </tr>\n",
              "  </tbody>\n",
              "</table>\n",
              "<p>1070994 rows × 7 columns</p>\n",
              "</div>"
            ],
            "text/plain": [
              "              PCA1       PCA2      PCA3  ...       PCA5      PCA6  score_distance\n",
              "0        -0.013270  -0.114136 -0.121495  ...  -0.046632 -0.024643        0.182123\n",
              "1         2.882271  21.269472  6.167991  ...   0.217946 -1.024290       22.792167\n",
              "2         0.000696   0.097098 -0.071393  ...   0.036591 -0.081890        0.221479\n",
              "3         0.076416  -0.083448 -0.096085  ...   0.154978  0.029530        0.222983\n",
              "4        13.410536  -3.085377  1.933541  ...  27.407774  9.652641       32.763477\n",
              "...            ...        ...       ...  ...        ...       ...             ...\n",
              "1070989  -0.029990  -0.103540 -0.044308  ...  -0.040430 -0.042255        0.140436\n",
              "1070990  -0.033203  -0.124769 -0.056686  ...  -0.026891 -0.060426        0.162434\n",
              "1070991  -0.026819  -0.125187 -0.055300  ...  -0.020095 -0.056485        0.161123\n",
              "1070992  -0.016792  -0.102430 -0.040045  ...  -0.013946 -0.064648        0.130048\n",
              "1070993  -0.019459  -0.070404 -0.016686  ...  -0.033091 -0.040570        0.092565\n",
              "\n",
              "[1070994 rows x 7 columns]"
            ]
          },
          "metadata": {
            "tags": []
          },
          "execution_count": 59
        }
      ]
    },
    {
      "cell_type": "code",
      "metadata": {
        "id": "DCS77HGuMbiB",
        "colab_type": "code",
        "colab": {
          "base_uri": "https://localhost:8080/",
          "height": 344
        },
        "outputId": "f509959e-cdec-4e93-bf85-a436dfc49f41"
      },
      "source": [
        "plot_hist(X_scale, 'score_distance', log_scale=1)"
      ],
      "execution_count": 60,
      "outputs": [
        {
          "output_type": "display_data",
          "data": {
            "image/png": "[encoded data removed]",
            "text/plain": [
              "<Figure size 460.8x345.6 with 1 Axes>"
            ]
          },
          "metadata": {
            "tags": []
          }
        }
      ]
    },
    {
      "cell_type": "markdown",
      "metadata": {
        "id": "RQTEBfkuXpG6",
        "colab_type": "text"
      },
      "source": [
        "### Autoencoder"
      ]
    },
    {
      "cell_type": "markdown",
      "metadata": {
        "id": "IMiVeSsujzK-",
        "colab_type": "text"
      },
      "source": [
        "An autoencoder is a type of neural network for unsupervised learning to learn a representation of a dataset, which can be used for anomaly detection. The model learns to reconstruct the output vector close to the original input vector using the neural network. If the records are not reproduced well, this is a sign of unusual record so we can use the distance between the original input vector and output vector as an anomaly score. Here I create a simple neural network with one hidden layer of 5 nodes using the Keras package."
      ]
    },
    {
      "cell_type": "code",
      "metadata": {
        "id": "lWdYe1i49xFO",
        "colab_type": "code",
        "colab": {}
      },
      "source": [
        "from keras.layers import Input, Dense\n",
        "from keras.models import Model\n",
        "from keras.callbacks import ModelCheckpoint, History\n",
        "import tensorflow as tf"
      ],
      "execution_count": 61,
      "outputs": []
    },
    {
      "cell_type": "code",
      "metadata": {
        "id": "c0SzPzgI9wET",
        "colab_type": "code",
        "colab": {}
      },
      "source": [
        "encoding_dim = 5\n",
        "input_dim = Input(shape=(6,))\n",
        "encoded = Dense(encoding_dim, activation='relu')(input_dim)\n",
        "decoded = Dense(6)(encoded)\n",
        "autoencoder = Model(input_dim, decoded)\n",
        "autoencoder.compile(optimizer='adam', loss='mse')\n",
        "history = autoencoder.fit(X_scale.iloc[:,:-1], X_scale.iloc[:,:-1], epochs=100, batch_size=1000, shuffle = True, verbose=0, validation_split=0.2,\n",
        "                          callbacks= [ModelCheckpoint(filepath=\"/content/drive/My Drive/Colab Notebooks/weights.hdf5\", save_best_only= True), History()])\n",
        "autoencoder_final = tf.keras.models.load_model(filepath=\"/content/drive/My Drive/Colab Notebooks/weights.hdf5\")"
      ],
      "execution_count": 62,
      "outputs": []
    },
    {
      "cell_type": "code",
      "metadata": {
        "id": "1_bt0a3tjfZQ",
        "colab_type": "code",
        "colab": {
          "base_uri": "https://localhost:8080/",
          "height": 255
        },
        "outputId": "793f5f0a-f898-4b88-c485-5df8bb33b9ba"
      },
      "source": [
        "autoencoder_final.summary()"
      ],
      "execution_count": 63,
      "outputs": [
        {
          "output_type": "stream",
          "text": [
            "Model: \"functional_1\"\n",
            "_________________________________________________________________\n",
            "Layer (type)                 Output Shape              Param #   \n",
            "=================================================================\n",
            "input_1 (InputLayer)         [(None, 6)]               0         \n",
            "_________________________________________________________________\n",
            "dense (Dense)                (None, 5)                 35        \n",
            "_________________________________________________________________\n",
            "dense_1 (Dense)              (None, 6)                 36        \n",
            "=================================================================\n",
            "Total params: 71\n",
            "Trainable params: 71\n",
            "Non-trainable params: 0\n",
            "_________________________________________________________________\n"
          ],
          "name": "stdout"
        }
      ]
    },
    {
      "cell_type": "code",
      "metadata": {
        "id": "S05PiPu1i_rd",
        "colab_type": "code",
        "colab": {}
      },
      "source": [
        "result = pd.DataFrame(autoencoder_final.predict(X_scale.iloc[:,:-1]))"
      ],
      "execution_count": 64,
      "outputs": []
    },
    {
      "cell_type": "code",
      "metadata": {
        "id": "NZWcbN4tuPwD",
        "colab_type": "code",
        "colab": {
          "base_uri": "https://localhost:8080/",
          "height": 419
        },
        "outputId": "c0cab456-20e3-42cb-c62e-4dd67355b061"
      },
      "source": [
        "result"
      ],
      "execution_count": 65,
      "outputs": [
        {
          "output_type": "execute_result",
          "data": {
            "text/html": [
              "<div>\n",
              "<style scoped>\n",
              "    .dataframe tbody tr th:only-of-type {\n",
              "        vertical-align: middle;\n",
              "    }\n",
              "\n",
              "    .dataframe tbody tr th {\n",
              "        vertical-align: top;\n",
              "    }\n",
              "\n",
              "    .dataframe thead th {\n",
              "        text-align: right;\n",
              "    }\n",
              "</style>\n",
              "<table border=\"1\" class=\"dataframe\">\n",
              "  <thead>\n",
              "    <tr style=\"text-align: right;\">\n",
              "      <th></th>\n",
              "      <th>0</th>\n",
              "      <th>1</th>\n",
              "      <th>2</th>\n",
              "      <th>3</th>\n",
              "      <th>4</th>\n",
              "      <th>5</th>\n",
              "    </tr>\n",
              "  </thead>\n",
              "  <tbody>\n",
              "    <tr>\n",
              "      <th>0</th>\n",
              "      <td>-0.017688</td>\n",
              "      <td>-0.118528</td>\n",
              "      <td>-0.118330</td>\n",
              "      <td>0.040809</td>\n",
              "      <td>-0.036905</td>\n",
              "      <td>-0.039866</td>\n",
              "    </tr>\n",
              "    <tr>\n",
              "      <th>1</th>\n",
              "      <td>3.692611</td>\n",
              "      <td>21.006784</td>\n",
              "      <td>5.840676</td>\n",
              "      <td>-3.352150</td>\n",
              "      <td>-0.516522</td>\n",
              "      <td>-0.377513</td>\n",
              "    </tr>\n",
              "    <tr>\n",
              "      <th>2</th>\n",
              "      <td>0.009924</td>\n",
              "      <td>0.086492</td>\n",
              "      <td>-0.070001</td>\n",
              "      <td>0.178105</td>\n",
              "      <td>0.030622</td>\n",
              "      <td>-0.078230</td>\n",
              "    </tr>\n",
              "    <tr>\n",
              "      <th>3</th>\n",
              "      <td>0.079913</td>\n",
              "      <td>-0.084914</td>\n",
              "      <td>-0.097379</td>\n",
              "      <td>0.061085</td>\n",
              "      <td>0.148464</td>\n",
              "      <td>0.040411</td>\n",
              "    </tr>\n",
              "    <tr>\n",
              "      <th>4</th>\n",
              "      <td>14.306090</td>\n",
              "      <td>-2.243440</td>\n",
              "      <td>1.106117</td>\n",
              "      <td>-3.940318</td>\n",
              "      <td>24.936390</td>\n",
              "      <td>13.913218</td>\n",
              "    </tr>\n",
              "    <tr>\n",
              "      <th>...</th>\n",
              "      <td>...</td>\n",
              "      <td>...</td>\n",
              "      <td>...</td>\n",
              "      <td>...</td>\n",
              "      <td>...</td>\n",
              "      <td>...</td>\n",
              "    </tr>\n",
              "    <tr>\n",
              "      <th>1070989</th>\n",
              "      <td>-0.031303</td>\n",
              "      <td>-0.102770</td>\n",
              "      <td>-0.043242</td>\n",
              "      <td>0.053115</td>\n",
              "      <td>-0.043271</td>\n",
              "      <td>-0.035020</td>\n",
              "    </tr>\n",
              "    <tr>\n",
              "      <th>1070990</th>\n",
              "      <td>-0.030965</td>\n",
              "      <td>-0.121844</td>\n",
              "      <td>-0.058746</td>\n",
              "      <td>0.055199</td>\n",
              "      <td>-0.040180</td>\n",
              "      <td>-0.035170</td>\n",
              "    </tr>\n",
              "    <tr>\n",
              "      <th>1070991</th>\n",
              "      <td>-0.025144</td>\n",
              "      <td>-0.122525</td>\n",
              "      <td>-0.056584</td>\n",
              "      <td>0.062075</td>\n",
              "      <td>-0.031757</td>\n",
              "      <td>-0.034030</td>\n",
              "    </tr>\n",
              "    <tr>\n",
              "      <th>1070992</th>\n",
              "      <td>-0.011132</td>\n",
              "      <td>-0.096815</td>\n",
              "      <td>-0.045083</td>\n",
              "      <td>0.028814</td>\n",
              "      <td>-0.036227</td>\n",
              "      <td>-0.024571</td>\n",
              "    </tr>\n",
              "    <tr>\n",
              "      <th>1070993</th>\n",
              "      <td>-0.018025</td>\n",
              "      <td>-0.067300</td>\n",
              "      <td>-0.018235</td>\n",
              "      <td>0.020952</td>\n",
              "      <td>-0.043006</td>\n",
              "      <td>-0.021762</td>\n",
              "    </tr>\n",
              "  </tbody>\n",
              "</table>\n",
              "<p>1070994 rows × 6 columns</p>\n",
              "</div>"
            ],
            "text/plain": [
              "                 0          1         2         3          4          5\n",
              "0        -0.017688  -0.118528 -0.118330  0.040809  -0.036905  -0.039866\n",
              "1         3.692611  21.006784  5.840676 -3.352150  -0.516522  -0.377513\n",
              "2         0.009924   0.086492 -0.070001  0.178105   0.030622  -0.078230\n",
              "3         0.079913  -0.084914 -0.097379  0.061085   0.148464   0.040411\n",
              "4        14.306090  -2.243440  1.106117 -3.940318  24.936390  13.913218\n",
              "...            ...        ...       ...       ...        ...        ...\n",
              "1070989  -0.031303  -0.102770 -0.043242  0.053115  -0.043271  -0.035020\n",
              "1070990  -0.030965  -0.121844 -0.058746  0.055199  -0.040180  -0.035170\n",
              "1070991  -0.025144  -0.122525 -0.056584  0.062075  -0.031757  -0.034030\n",
              "1070992  -0.011132  -0.096815 -0.045083  0.028814  -0.036227  -0.024571\n",
              "1070993  -0.018025  -0.067300 -0.018235  0.020952  -0.043006  -0.021762\n",
              "\n",
              "[1070994 rows x 6 columns]"
            ]
          },
          "metadata": {
            "tags": []
          },
          "execution_count": 65
        }
      ]
    },
    {
      "cell_type": "markdown",
      "metadata": {
        "id": "Xz9yKofxlDy8",
        "colab_type": "text"
      },
      "source": [
        "Then, I calculate the distance between the original input vector and output vector and combine them to a single outlierness score for each record using the Euclidean distance formula."
      ]
    },
    {
      "cell_type": "code",
      "metadata": {
        "id": "4nAckabksbuL",
        "colab_type": "code",
        "colab": {}
      },
      "source": [
        "X_scale['score_auto'] = np.zeros(len(X_scale))\n",
        "for i in range(6):\n",
        "    X_scale['score_auto'] += (X_scale.loc[:,'PCA'+str(i+1)] - result.loc[:,i])**2\n",
        "X_scale['score_auto'] = X_scale['score_auto']**(1/2)"
      ],
      "execution_count": 66,
      "outputs": []
    },
    {
      "cell_type": "code",
      "metadata": {
        "id": "Fv5UiUtuugsE",
        "colab_type": "code",
        "colab": {
          "base_uri": "https://localhost:8080/",
          "height": 419
        },
        "outputId": "6b6aa065-f2e2-4d7f-8de4-9c6455060955"
      },
      "source": [
        "X_scale"
      ],
      "execution_count": 67,
      "outputs": [
        {
          "output_type": "execute_result",
          "data": {
            "text/html": [
              "<div>\n",
              "<style scoped>\n",
              "    .dataframe tbody tr th:only-of-type {\n",
              "        vertical-align: middle;\n",
              "    }\n",
              "\n",
              "    .dataframe tbody tr th {\n",
              "        vertical-align: top;\n",
              "    }\n",
              "\n",
              "    .dataframe thead th {\n",
              "        text-align: right;\n",
              "    }\n",
              "</style>\n",
              "<table border=\"1\" class=\"dataframe\">\n",
              "  <thead>\n",
              "    <tr style=\"text-align: right;\">\n",
              "      <th></th>\n",
              "      <th>PCA1</th>\n",
              "      <th>PCA2</th>\n",
              "      <th>PCA3</th>\n",
              "      <th>PCA4</th>\n",
              "      <th>PCA5</th>\n",
              "      <th>PCA6</th>\n",
              "      <th>score_distance</th>\n",
              "      <th>score_auto</th>\n",
              "    </tr>\n",
              "  </thead>\n",
              "  <tbody>\n",
              "    <tr>\n",
              "      <th>0</th>\n",
              "      <td>-0.013270</td>\n",
              "      <td>-0.114136</td>\n",
              "      <td>-0.121495</td>\n",
              "      <td>0.049222</td>\n",
              "      <td>-0.046632</td>\n",
              "      <td>-0.024643</td>\n",
              "      <td>0.182123</td>\n",
              "      <td>0.021117</td>\n",
              "    </tr>\n",
              "    <tr>\n",
              "      <th>1</th>\n",
              "      <td>2.882271</td>\n",
              "      <td>21.269472</td>\n",
              "      <td>6.167991</td>\n",
              "      <td>-4.432177</td>\n",
              "      <td>0.217946</td>\n",
              "      <td>-1.024290</td>\n",
              "      <td>22.792167</td>\n",
              "      <td>1.719596</td>\n",
              "    </tr>\n",
              "    <tr>\n",
              "      <th>2</th>\n",
              "      <td>0.000696</td>\n",
              "      <td>0.097098</td>\n",
              "      <td>-0.071393</td>\n",
              "      <td>0.162735</td>\n",
              "      <td>0.036591</td>\n",
              "      <td>-0.081890</td>\n",
              "      <td>0.221479</td>\n",
              "      <td>0.022019</td>\n",
              "    </tr>\n",
              "    <tr>\n",
              "      <th>3</th>\n",
              "      <td>0.076416</td>\n",
              "      <td>-0.083448</td>\n",
              "      <td>-0.096085</td>\n",
              "      <td>0.052875</td>\n",
              "      <td>0.154978</td>\n",
              "      <td>0.029530</td>\n",
              "      <td>0.222983</td>\n",
              "      <td>0.015630</td>\n",
              "    </tr>\n",
              "    <tr>\n",
              "      <th>4</th>\n",
              "      <td>13.410536</td>\n",
              "      <td>-3.085377</td>\n",
              "      <td>1.933541</td>\n",
              "      <td>-5.998776</td>\n",
              "      <td>27.407774</td>\n",
              "      <td>9.652641</td>\n",
              "      <td>32.763477</td>\n",
              "      <td>5.540128</td>\n",
              "    </tr>\n",
              "    <tr>\n",
              "      <th>...</th>\n",
              "      <td>...</td>\n",
              "      <td>...</td>\n",
              "      <td>...</td>\n",
              "      <td>...</td>\n",
              "      <td>...</td>\n",
              "      <td>...</td>\n",
              "      <td>...</td>\n",
              "      <td>...</td>\n",
              "    </tr>\n",
              "    <tr>\n",
              "      <th>1070989</th>\n",
              "      <td>-0.029990</td>\n",
              "      <td>-0.103540</td>\n",
              "      <td>-0.044308</td>\n",
              "      <td>0.052144</td>\n",
              "      <td>-0.040430</td>\n",
              "      <td>-0.042255</td>\n",
              "      <td>0.140436</td>\n",
              "      <td>0.008051</td>\n",
              "    </tr>\n",
              "    <tr>\n",
              "      <th>1070990</th>\n",
              "      <td>-0.033203</td>\n",
              "      <td>-0.124769</td>\n",
              "      <td>-0.056686</td>\n",
              "      <td>0.046122</td>\n",
              "      <td>-0.026891</td>\n",
              "      <td>-0.060426</td>\n",
              "      <td>0.162434</td>\n",
              "      <td>0.030244</td>\n",
              "    </tr>\n",
              "    <tr>\n",
              "      <th>1070991</th>\n",
              "      <td>-0.026819</td>\n",
              "      <td>-0.125187</td>\n",
              "      <td>-0.055300</td>\n",
              "      <td>0.054010</td>\n",
              "      <td>-0.020095</td>\n",
              "      <td>-0.056485</td>\n",
              "      <td>0.161123</td>\n",
              "      <td>0.026774</td>\n",
              "    </tr>\n",
              "    <tr>\n",
              "      <th>1070992</th>\n",
              "      <td>-0.016792</td>\n",
              "      <td>-0.102430</td>\n",
              "      <td>-0.040045</td>\n",
              "      <td>0.012686</td>\n",
              "      <td>-0.013946</td>\n",
              "      <td>-0.064648</td>\n",
              "      <td>0.130048</td>\n",
              "      <td>0.049514</td>\n",
              "    </tr>\n",
              "    <tr>\n",
              "      <th>1070993</th>\n",
              "      <td>-0.019459</td>\n",
              "      <td>-0.070404</td>\n",
              "      <td>-0.016686</td>\n",
              "      <td>0.014618</td>\n",
              "      <td>-0.033091</td>\n",
              "      <td>-0.040570</td>\n",
              "      <td>0.092565</td>\n",
              "      <td>0.022500</td>\n",
              "    </tr>\n",
              "  </tbody>\n",
              "</table>\n",
              "<p>1070994 rows × 8 columns</p>\n",
              "</div>"
            ],
            "text/plain": [
              "              PCA1       PCA2      PCA3  ...      PCA6  score_distance  score_auto\n",
              "0        -0.013270  -0.114136 -0.121495  ... -0.024643        0.182123    0.021117\n",
              "1         2.882271  21.269472  6.167991  ... -1.024290       22.792167    1.719596\n",
              "2         0.000696   0.097098 -0.071393  ... -0.081890        0.221479    0.022019\n",
              "3         0.076416  -0.083448 -0.096085  ...  0.029530        0.222983    0.015630\n",
              "4        13.410536  -3.085377  1.933541  ...  9.652641       32.763477    5.540128\n",
              "...            ...        ...       ...  ...       ...             ...         ...\n",
              "1070989  -0.029990  -0.103540 -0.044308  ... -0.042255        0.140436    0.008051\n",
              "1070990  -0.033203  -0.124769 -0.056686  ... -0.060426        0.162434    0.030244\n",
              "1070991  -0.026819  -0.125187 -0.055300  ... -0.056485        0.161123    0.026774\n",
              "1070992  -0.016792  -0.102430 -0.040045  ... -0.064648        0.130048    0.049514\n",
              "1070993  -0.019459  -0.070404 -0.016686  ... -0.040570        0.092565    0.022500\n",
              "\n",
              "[1070994 rows x 8 columns]"
            ]
          },
          "metadata": {
            "tags": []
          },
          "execution_count": 67
        }
      ]
    },
    {
      "cell_type": "code",
      "metadata": {
        "id": "QzC0QXMeXpHB",
        "colab_type": "code",
        "colab": {
          "base_uri": "https://localhost:8080/",
          "height": 344
        },
        "outputId": "41f8a371-f0c5-4053-f711-bb52029986ee"
      },
      "source": [
        "plot_hist(X_scale, 'score_auto', log_scale=1)"
      ],
      "execution_count": 68,
      "outputs": [
        {
          "output_type": "display_data",
          "data": {
            "image/png": "[encoded data removed]",
            "text/plain": [
              "<Figure size 460.8x345.6 with 1 Axes>"
            ]
          },
          "metadata": {
            "tags": []
          }
        }
      ]
    },
    {
      "cell_type": "markdown",
      "metadata": {
        "id": "44EKlmd1XpHz",
        "colab_type": "text"
      },
      "source": [
        "### Combining the two scores using Rank"
      ]
    },
    {
      "cell_type": "markdown",
      "metadata": {
        "id": "QY9woyDbl0Yt",
        "colab_type": "text"
      },
      "source": [
        "To combine the two scores, I first calculate the rank order of each score. Then, the two scores on the same scale and they can be combined into a single score using the average."
      ]
    },
    {
      "cell_type": "code",
      "metadata": {
        "id": "UbOLtRB_XpHz",
        "colab_type": "code",
        "colab": {}
      },
      "source": [
        "X_scale[\"score_distance_rank\"] = X_scale['score_distance'].rank()\n",
        "X_scale[\"score_auto_rank\"] = X_scale['score_auto'].rank()\n",
        "X_scale['score_final'] = (X_scale[\"score_distance_rank\"] + X_scale[\"score_auto_rank\"]) / 2"
      ],
      "execution_count": 69,
      "outputs": []
    },
    {
      "cell_type": "code",
      "metadata": {
        "id": "5DiWzFz3upBk",
        "colab_type": "code",
        "colab": {
          "base_uri": "https://localhost:8080/",
          "height": 359
        },
        "outputId": "90286aac-281d-4184-f3f5-e95193cda1c7"
      },
      "source": [
        "X_scale.sort_values('score_final', ascending=False).head(10)"
      ],
      "execution_count": 70,
      "outputs": [
        {
          "output_type": "execute_result",
          "data": {
            "text/html": [
              "<div>\n",
              "<style scoped>\n",
              "    .dataframe tbody tr th:only-of-type {\n",
              "        vertical-align: middle;\n",
              "    }\n",
              "\n",
              "    .dataframe tbody tr th {\n",
              "        vertical-align: top;\n",
              "    }\n",
              "\n",
              "    .dataframe thead th {\n",
              "        text-align: right;\n",
              "    }\n",
              "</style>\n",
              "<table border=\"1\" class=\"dataframe\">\n",
              "  <thead>\n",
              "    <tr style=\"text-align: right;\">\n",
              "      <th></th>\n",
              "      <th>PCA1</th>\n",
              "      <th>PCA2</th>\n",
              "      <th>PCA3</th>\n",
              "      <th>PCA4</th>\n",
              "      <th>PCA5</th>\n",
              "      <th>PCA6</th>\n",
              "      <th>score_distance</th>\n",
              "      <th>score_auto</th>\n",
              "      <th>score_distance_rank</th>\n",
              "      <th>score_auto_rank</th>\n",
              "      <th>score_final</th>\n",
              "    </tr>\n",
              "  </thead>\n",
              "  <tbody>\n",
              "    <tr>\n",
              "      <th>917941</th>\n",
              "      <td>254.163397</td>\n",
              "      <td>6.947265</td>\n",
              "      <td>-232.653488</td>\n",
              "      <td>205.850877</td>\n",
              "      <td>-324.496136</td>\n",
              "      <td>552.671451</td>\n",
              "      <td>756.236075</td>\n",
              "      <td>725.735917</td>\n",
              "      <td>1070991.0</td>\n",
              "      <td>1070994.0</td>\n",
              "      <td>1070992.5</td>\n",
              "    </tr>\n",
              "    <tr>\n",
              "      <th>920627</th>\n",
              "      <td>96.588727</td>\n",
              "      <td>-24.213407</td>\n",
              "      <td>-61.348459</td>\n",
              "      <td>-230.764379</td>\n",
              "      <td>203.449013</td>\n",
              "      <td>-164.118900</td>\n",
              "      <td>367.774411</td>\n",
              "      <td>283.696081</td>\n",
              "      <td>1070985.0</td>\n",
              "      <td>1070993.0</td>\n",
              "      <td>1070989.0</td>\n",
              "    </tr>\n",
              "    <tr>\n",
              "      <th>1067000</th>\n",
              "      <td>101.448475</td>\n",
              "      <td>-22.635986</td>\n",
              "      <td>-85.190337</td>\n",
              "      <td>-208.082847</td>\n",
              "      <td>86.515852</td>\n",
              "      <td>-164.963688</td>\n",
              "      <td>309.932342</td>\n",
              "      <td>219.174746</td>\n",
              "      <td>1070984.0</td>\n",
              "      <td>1070992.0</td>\n",
              "      <td>1070988.0</td>\n",
              "    </tr>\n",
              "    <tr>\n",
              "      <th>585117</th>\n",
              "      <td>193.972929</td>\n",
              "      <td>-16.045057</td>\n",
              "      <td>-375.495797</td>\n",
              "      <td>-253.502635</td>\n",
              "      <td>-342.875334</td>\n",
              "      <td>-46.614222</td>\n",
              "      <td>602.395220</td>\n",
              "      <td>107.034913</td>\n",
              "      <td>1070990.0</td>\n",
              "      <td>1070985.0</td>\n",
              "      <td>1070987.5</td>\n",
              "    </tr>\n",
              "    <tr>\n",
              "      <th>1067359</th>\n",
              "      <td>64.725786</td>\n",
              "      <td>596.797493</td>\n",
              "      <td>388.717590</td>\n",
              "      <td>-332.092578</td>\n",
              "      <td>-141.129787</td>\n",
              "      <td>172.402201</td>\n",
              "      <td>819.380044</td>\n",
              "      <td>84.184632</td>\n",
              "      <td>1070992.0</td>\n",
              "      <td>1070978.0</td>\n",
              "      <td>1070985.0</td>\n",
              "    </tr>\n",
              "    <tr>\n",
              "      <th>632815</th>\n",
              "      <td>762.608063</td>\n",
              "      <td>-225.658158</td>\n",
              "      <td>486.454406</td>\n",
              "      <td>249.743693</td>\n",
              "      <td>-199.574037</td>\n",
              "      <td>-261.737722</td>\n",
              "      <td>1019.724912</td>\n",
              "      <td>82.979683</td>\n",
              "      <td>1070994.0</td>\n",
              "      <td>1070976.0</td>\n",
              "      <td>1070985.0</td>\n",
              "    </tr>\n",
              "    <tr>\n",
              "      <th>85885</th>\n",
              "      <td>246.475601</td>\n",
              "      <td>-66.283793</td>\n",
              "      <td>41.652811</td>\n",
              "      <td>-95.742208</td>\n",
              "      <td>403.954920</td>\n",
              "      <td>131.632095</td>\n",
              "      <td>506.509502</td>\n",
              "      <td>89.259911</td>\n",
              "      <td>1070989.0</td>\n",
              "      <td>1070979.0</td>\n",
              "      <td>1070984.0</td>\n",
              "    </tr>\n",
              "    <tr>\n",
              "      <th>794104</th>\n",
              "      <td>63.262569</td>\n",
              "      <td>-14.405220</td>\n",
              "      <td>-53.947186</td>\n",
              "      <td>-146.528162</td>\n",
              "      <td>88.342373</td>\n",
              "      <td>-103.408119</td>\n",
              "      <td>216.997876</td>\n",
              "      <td>158.570751</td>\n",
              "      <td>1070977.0</td>\n",
              "      <td>1070991.0</td>\n",
              "      <td>1070984.0</td>\n",
              "    </tr>\n",
              "    <tr>\n",
              "      <th>690832</th>\n",
              "      <td>95.542841</td>\n",
              "      <td>-12.536987</td>\n",
              "      <td>-89.260588</td>\n",
              "      <td>-32.555258</td>\n",
              "      <td>66.262792</td>\n",
              "      <td>183.264308</td>\n",
              "      <td>237.254024</td>\n",
              "      <td>128.265337</td>\n",
              "      <td>1070979.0</td>\n",
              "      <td>1070988.0</td>\n",
              "      <td>1070983.5</td>\n",
              "    </tr>\n",
              "    <tr>\n",
              "      <th>562741</th>\n",
              "      <td>60.887626</td>\n",
              "      <td>-17.601401</td>\n",
              "      <td>-0.249329</td>\n",
              "      <td>-101.958957</td>\n",
              "      <td>157.764785</td>\n",
              "      <td>-72.632282</td>\n",
              "      <td>211.134979</td>\n",
              "      <td>157.860797</td>\n",
              "      <td>1070976.0</td>\n",
              "      <td>1070990.0</td>\n",
              "      <td>1070983.0</td>\n",
              "    </tr>\n",
              "  </tbody>\n",
              "</table>\n",
              "</div>"
            ],
            "text/plain": [
              "               PCA1        PCA2  ...  score_auto_rank  score_final\n",
              "917941   254.163397    6.947265  ...        1070994.0    1070992.5\n",
              "920627    96.588727  -24.213407  ...        1070993.0    1070989.0\n",
              "1067000  101.448475  -22.635986  ...        1070992.0    1070988.0\n",
              "585117   193.972929  -16.045057  ...        1070985.0    1070987.5\n",
              "1067359   64.725786  596.797493  ...        1070978.0    1070985.0\n",
              "632815   762.608063 -225.658158  ...        1070976.0    1070985.0\n",
              "85885    246.475601  -66.283793  ...        1070979.0    1070984.0\n",
              "794104    63.262569  -14.405220  ...        1070991.0    1070984.0\n",
              "690832    95.542841  -12.536987  ...        1070988.0    1070983.5\n",
              "562741    60.887626  -17.601401  ...        1070990.0    1070983.0\n",
              "\n",
              "[10 rows x 11 columns]"
            ]
          },
          "metadata": {
            "tags": []
          },
          "execution_count": 70
        }
      ]
    },
    {
      "cell_type": "markdown",
      "metadata": {
        "id": "ucSZzBCWXpIG",
        "colab_type": "text"
      },
      "source": [
        "## Conclusion"
      ]
    },
    {
      "cell_type": "markdown",
      "metadata": {
        "id": "R9rmHx118-1Q",
        "colab_type": "text"
      },
      "source": [
        "In the conclusion, I select the top 20 anomaly records and investigate them using the original table."
      ]
    },
    {
      "cell_type": "code",
      "metadata": {
        "id": "zGTvVLh45CqH",
        "colab_type": "code",
        "colab": {}
      },
      "source": [
        "cols = ['RECORD', 'FULLVAL', 'AVLAND', 'AVTOT', 'STADDR', 'LTFRONT', 'LTDEPTH', 'BLDFRONT', 'BLDDEPTH', 'ZIP', 'B', 'TAXCLASS', 'STORIES']\n",
        "X_scale['RECORD'] = data['RECORD']\n",
        "top20 = X_scale.sort_values('score_final', ascending=False).head(20)[['RECORD','score_final']]\n",
        "top20_data = data[data.RECORD.isin(top20['RECORD'])][cols]\n",
        "top20_data['score_final'] = top20.score_final\n",
        "top20_data.sort_values('score_final', ascending=False, inplace=True)"
      ],
      "execution_count": 71,
      "outputs": []
    },
    {
      "cell_type": "code",
      "metadata": {
        "id": "0TDkB76Tnuae",
        "colab_type": "code",
        "colab": {
          "base_uri": "https://localhost:8080/",
          "height": 669
        },
        "outputId": "062bc62c-260d-4130-92cc-2f756b5c1a62"
      },
      "source": [
        "top20_data"
      ],
      "execution_count": 72,
      "outputs": [
        {
          "output_type": "execute_result",
          "data": {
            "text/html": [
              "<div>\n",
              "<style scoped>\n",
              "    .dataframe tbody tr th:only-of-type {\n",
              "        vertical-align: middle;\n",
              "    }\n",
              "\n",
              "    .dataframe tbody tr th {\n",
              "        vertical-align: top;\n",
              "    }\n",
              "\n",
              "    .dataframe thead th {\n",
              "        text-align: right;\n",
              "    }\n",
              "</style>\n",
              "<table border=\"1\" class=\"dataframe\">\n",
              "  <thead>\n",
              "    <tr style=\"text-align: right;\">\n",
              "      <th></th>\n",
              "      <th>RECORD</th>\n",
              "      <th>FULLVAL</th>\n",
              "      <th>AVLAND</th>\n",
              "      <th>AVTOT</th>\n",
              "      <th>STADDR</th>\n",
              "      <th>LTFRONT</th>\n",
              "      <th>LTDEPTH</th>\n",
              "      <th>BLDFRONT</th>\n",
              "      <th>BLDDEPTH</th>\n",
              "      <th>ZIP</th>\n",
              "      <th>B</th>\n",
              "      <th>TAXCLASS</th>\n",
              "      <th>STORIES</th>\n",
              "      <th>score_final</th>\n",
              "    </tr>\n",
              "  </thead>\n",
              "  <tbody>\n",
              "    <tr>\n",
              "      <th>917941</th>\n",
              "      <td>917942</td>\n",
              "      <td>3.740199e+08</td>\n",
              "      <td>1.792809e+09</td>\n",
              "      <td>4.668309e+09</td>\n",
              "      <td>154-68 BROOKVILLE BOULEVARD</td>\n",
              "      <td>4910.0</td>\n",
              "      <td>100.0</td>\n",
              "      <td>40.0</td>\n",
              "      <td>60.0</td>\n",
              "      <td>11422.0</td>\n",
              "      <td>4</td>\n",
              "      <td>4</td>\n",
              "      <td>3.0</td>\n",
              "      <td>1070992.5</td>\n",
              "    </tr>\n",
              "    <tr>\n",
              "      <th>920627</th>\n",
              "      <td>920628</td>\n",
              "      <td>1.900000e+06</td>\n",
              "      <td>9.763000e+03</td>\n",
              "      <td>7.576300e+04</td>\n",
              "      <td>7-06 ELVIRA AVENUE</td>\n",
              "      <td>91.0</td>\n",
              "      <td>100.0</td>\n",
              "      <td>1.0</td>\n",
              "      <td>1.0</td>\n",
              "      <td>11691.0</td>\n",
              "      <td>4</td>\n",
              "      <td>1</td>\n",
              "      <td>2.0</td>\n",
              "      <td>1070989.0</td>\n",
              "    </tr>\n",
              "    <tr>\n",
              "      <th>1067000</th>\n",
              "      <td>1067001</td>\n",
              "      <td>2.120000e+06</td>\n",
              "      <td>6.540100e+04</td>\n",
              "      <td>1.249100e+05</td>\n",
              "      <td>238 BEDELL AVENUE</td>\n",
              "      <td>96.0</td>\n",
              "      <td>279.0</td>\n",
              "      <td>1.0</td>\n",
              "      <td>1.0</td>\n",
              "      <td>10307.0</td>\n",
              "      <td>5</td>\n",
              "      <td>1</td>\n",
              "      <td>3.0</td>\n",
              "      <td>1070988.0</td>\n",
              "    </tr>\n",
              "    <tr>\n",
              "      <th>585117</th>\n",
              "      <td>585118</td>\n",
              "      <td>3.443400e+06</td>\n",
              "      <td>1.549530e+06</td>\n",
              "      <td>1.549530e+06</td>\n",
              "      <td>28-10 QUEENS PLAZA SOUTH</td>\n",
              "      <td>298.0</td>\n",
              "      <td>402.0</td>\n",
              "      <td>1.0</td>\n",
              "      <td>1.0</td>\n",
              "      <td>11101.0</td>\n",
              "      <td>4</td>\n",
              "      <td>4</td>\n",
              "      <td>20.0</td>\n",
              "      <td>1070987.5</td>\n",
              "    </tr>\n",
              "    <tr>\n",
              "      <th>1067359</th>\n",
              "      <td>1067360</td>\n",
              "      <td>8.360000e+05</td>\n",
              "      <td>2.880000e+04</td>\n",
              "      <td>5.016000e+04</td>\n",
              "      <td>20 EMILY COURT</td>\n",
              "      <td>1.0</td>\n",
              "      <td>1.0</td>\n",
              "      <td>36.0</td>\n",
              "      <td>45.0</td>\n",
              "      <td>10307.0</td>\n",
              "      <td>5</td>\n",
              "      <td>1</td>\n",
              "      <td>2.0</td>\n",
              "      <td>1070985.0</td>\n",
              "    </tr>\n",
              "    <tr>\n",
              "      <th>632815</th>\n",
              "      <td>632816</td>\n",
              "      <td>2.930000e+06</td>\n",
              "      <td>1.318500e+06</td>\n",
              "      <td>1.318500e+06</td>\n",
              "      <td>86-55 BROADWAY</td>\n",
              "      <td>157.0</td>\n",
              "      <td>95.0</td>\n",
              "      <td>1.0</td>\n",
              "      <td>1.0</td>\n",
              "      <td>11373.0</td>\n",
              "      <td>4</td>\n",
              "      <td>2</td>\n",
              "      <td>1.0</td>\n",
              "      <td>1070985.0</td>\n",
              "    </tr>\n",
              "    <tr>\n",
              "      <th>85885</th>\n",
              "      <td>85886</td>\n",
              "      <td>7.021400e+07</td>\n",
              "      <td>3.145500e+07</td>\n",
              "      <td>3.159630e+07</td>\n",
              "      <td>JOE DIMAGGIO HIGHWAY</td>\n",
              "      <td>4000.0</td>\n",
              "      <td>150.0</td>\n",
              "      <td>8.0</td>\n",
              "      <td>8.0</td>\n",
              "      <td>10025.0</td>\n",
              "      <td>1</td>\n",
              "      <td>4</td>\n",
              "      <td>1.0</td>\n",
              "      <td>1070984.0</td>\n",
              "    </tr>\n",
              "    <tr>\n",
              "      <th>794104</th>\n",
              "      <td>794105</td>\n",
              "      <td>1.356000e+06</td>\n",
              "      <td>1.540800e+04</td>\n",
              "      <td>7.924800e+04</td>\n",
              "      <td>91-25 75 STREET</td>\n",
              "      <td>37.0</td>\n",
              "      <td>100.0</td>\n",
              "      <td>1.0</td>\n",
              "      <td>1.0</td>\n",
              "      <td>11421.0</td>\n",
              "      <td>4</td>\n",
              "      <td>1</td>\n",
              "      <td>3.0</td>\n",
              "      <td>1070984.0</td>\n",
              "    </tr>\n",
              "    <tr>\n",
              "      <th>690832</th>\n",
              "      <td>690833</td>\n",
              "      <td>2.420000e+08</td>\n",
              "      <td>1.035000e+08</td>\n",
              "      <td>1.089000e+08</td>\n",
              "      <td>83-98 FOREST PARKWAY</td>\n",
              "      <td>610.0</td>\n",
              "      <td>534.0</td>\n",
              "      <td>20.0</td>\n",
              "      <td>20.0</td>\n",
              "      <td>11385.0</td>\n",
              "      <td>4</td>\n",
              "      <td>4</td>\n",
              "      <td>3.0</td>\n",
              "      <td>1070983.5</td>\n",
              "    </tr>\n",
              "    <tr>\n",
              "      <th>562741</th>\n",
              "      <td>562742</td>\n",
              "      <td>6.976000e+05</td>\n",
              "      <td>2.143700e+04</td>\n",
              "      <td>2.143700e+04</td>\n",
              "      <td>1582 EAST 56 STREET</td>\n",
              "      <td>100.0</td>\n",
              "      <td>84.0</td>\n",
              "      <td>1.0</td>\n",
              "      <td>1.0</td>\n",
              "      <td>11234.0</td>\n",
              "      <td>3</td>\n",
              "      <td>1</td>\n",
              "      <td>1.0</td>\n",
              "      <td>1070983.0</td>\n",
              "    </tr>\n",
              "    <tr>\n",
              "      <th>565391</th>\n",
              "      <td>565392</td>\n",
              "      <td>4.326304e+09</td>\n",
              "      <td>1.946837e+09</td>\n",
              "      <td>1.946837e+09</td>\n",
              "      <td>FLATBUSH AVENUE</td>\n",
              "      <td>117.0</td>\n",
              "      <td>108.0</td>\n",
              "      <td>42.0</td>\n",
              "      <td>85.0</td>\n",
              "      <td>11225.0</td>\n",
              "      <td>3</td>\n",
              "      <td>4</td>\n",
              "      <td>6.0</td>\n",
              "      <td>1070982.0</td>\n",
              "    </tr>\n",
              "    <tr>\n",
              "      <th>797935</th>\n",
              "      <td>797936</td>\n",
              "      <td>1.088000e+06</td>\n",
              "      <td>8.518000e+03</td>\n",
              "      <td>4.469800e+04</td>\n",
              "      <td>84-15 101 AVENUE</td>\n",
              "      <td>62.0</td>\n",
              "      <td>100.0</td>\n",
              "      <td>1.0</td>\n",
              "      <td>1.0</td>\n",
              "      <td>11416.0</td>\n",
              "      <td>4</td>\n",
              "      <td>1</td>\n",
              "      <td>3.0</td>\n",
              "      <td>1070980.5</td>\n",
              "    </tr>\n",
              "    <tr>\n",
              "      <th>1070427</th>\n",
              "      <td>1070428</td>\n",
              "      <td>9.290000e+05</td>\n",
              "      <td>2.472400e+04</td>\n",
              "      <td>4.584600e+04</td>\n",
              "      <td>9 HALE STREET</td>\n",
              "      <td>60.0</td>\n",
              "      <td>100.0</td>\n",
              "      <td>1.0</td>\n",
              "      <td>1.0</td>\n",
              "      <td>10307.0</td>\n",
              "      <td>5</td>\n",
              "      <td>1</td>\n",
              "      <td>2.0</td>\n",
              "      <td>1070976.5</td>\n",
              "    </tr>\n",
              "    <tr>\n",
              "      <th>585119</th>\n",
              "      <td>585120</td>\n",
              "      <td>2.151600e+06</td>\n",
              "      <td>9.682200e+05</td>\n",
              "      <td>9.682200e+05</td>\n",
              "      <td>28 STREET</td>\n",
              "      <td>139.0</td>\n",
              "      <td>342.0</td>\n",
              "      <td>1.0</td>\n",
              "      <td>1.0</td>\n",
              "      <td>11101.0</td>\n",
              "      <td>4</td>\n",
              "      <td>4</td>\n",
              "      <td>20.0</td>\n",
              "      <td>1070976.5</td>\n",
              "    </tr>\n",
              "    <tr>\n",
              "      <th>501142</th>\n",
              "      <td>501143</td>\n",
              "      <td>4.120000e+07</td>\n",
              "      <td>1.804500e+07</td>\n",
              "      <td>1.854000e+07</td>\n",
              "      <td>2000 SHORE PARKWAY</td>\n",
              "      <td>945.0</td>\n",
              "      <td>173.0</td>\n",
              "      <td>20.0</td>\n",
              "      <td>10.0</td>\n",
              "      <td>11214.0</td>\n",
              "      <td>3</td>\n",
              "      <td>4</td>\n",
              "      <td>1.0</td>\n",
              "      <td>1070976.0</td>\n",
              "    </tr>\n",
              "    <tr>\n",
              "      <th>794105</th>\n",
              "      <td>794106</td>\n",
              "      <td>9.750000e+05</td>\n",
              "      <td>1.781400e+04</td>\n",
              "      <td>5.525400e+04</td>\n",
              "      <td>91-15 75 STREET</td>\n",
              "      <td>50.0</td>\n",
              "      <td>100.0</td>\n",
              "      <td>1.0</td>\n",
              "      <td>1.0</td>\n",
              "      <td>11421.0</td>\n",
              "      <td>4</td>\n",
              "      <td>1</td>\n",
              "      <td>3.0</td>\n",
              "      <td>1070975.5</td>\n",
              "    </tr>\n",
              "    <tr>\n",
              "      <th>585438</th>\n",
              "      <td>585439</td>\n",
              "      <td>3.712000e+06</td>\n",
              "      <td>2.520000e+05</td>\n",
              "      <td>1.670400e+06</td>\n",
              "      <td>11-01 43 AVENUE</td>\n",
              "      <td>94.0</td>\n",
              "      <td>165.0</td>\n",
              "      <td>1.0</td>\n",
              "      <td>1.0</td>\n",
              "      <td>11101.0</td>\n",
              "      <td>4</td>\n",
              "      <td>4</td>\n",
              "      <td>10.0</td>\n",
              "      <td>1070975.0</td>\n",
              "    </tr>\n",
              "    <tr>\n",
              "      <th>565397</th>\n",
              "      <td>565398</td>\n",
              "      <td>2.310884e+09</td>\n",
              "      <td>1.039898e+09</td>\n",
              "      <td>1.039898e+09</td>\n",
              "      <td>FLATBUSH AVENUE</td>\n",
              "      <td>466.0</td>\n",
              "      <td>1009.0</td>\n",
              "      <td>42.0</td>\n",
              "      <td>85.0</td>\n",
              "      <td>11225.0</td>\n",
              "      <td>3</td>\n",
              "      <td>4</td>\n",
              "      <td>6.0</td>\n",
              "      <td>1070974.5</td>\n",
              "    </tr>\n",
              "    <tr>\n",
              "      <th>964933</th>\n",
              "      <td>964934</td>\n",
              "      <td>4.380000e+07</td>\n",
              "      <td>1.921500e+07</td>\n",
              "      <td>1.971000e+07</td>\n",
              "      <td>TODT HILL ROAD</td>\n",
              "      <td>923.0</td>\n",
              "      <td>1500.0</td>\n",
              "      <td>10.0</td>\n",
              "      <td>20.0</td>\n",
              "      <td>10304.0</td>\n",
              "      <td>5</td>\n",
              "      <td>4</td>\n",
              "      <td>1.0</td>\n",
              "      <td>1070973.5</td>\n",
              "    </tr>\n",
              "    <tr>\n",
              "      <th>750815</th>\n",
              "      <td>750816</td>\n",
              "      <td>2.717000e+05</td>\n",
              "      <td>8.126000e+03</td>\n",
              "      <td>8.126000e+03</td>\n",
              "      <td>VLEIGH PLACE</td>\n",
              "      <td>1.0</td>\n",
              "      <td>1.0</td>\n",
              "      <td>21.0</td>\n",
              "      <td>40.0</td>\n",
              "      <td>11367.0</td>\n",
              "      <td>4</td>\n",
              "      <td>1B</td>\n",
              "      <td>2.0</td>\n",
              "      <td>1070973.5</td>\n",
              "    </tr>\n",
              "  </tbody>\n",
              "</table>\n",
              "</div>"
            ],
            "text/plain": [
              "          RECORD       FULLVAL        AVLAND  ...  TAXCLASS STORIES  score_final\n",
              "917941    917942  3.740199e+08  1.792809e+09  ...         4     3.0    1070992.5\n",
              "920627    920628  1.900000e+06  9.763000e+03  ...         1     2.0    1070989.0\n",
              "1067000  1067001  2.120000e+06  6.540100e+04  ...         1     3.0    1070988.0\n",
              "585117    585118  3.443400e+06  1.549530e+06  ...         4    20.0    1070987.5\n",
              "1067359  1067360  8.360000e+05  2.880000e+04  ...         1     2.0    1070985.0\n",
              "632815    632816  2.930000e+06  1.318500e+06  ...         2     1.0    1070985.0\n",
              "85885      85886  7.021400e+07  3.145500e+07  ...         4     1.0    1070984.0\n",
              "794104    794105  1.356000e+06  1.540800e+04  ...         1     3.0    1070984.0\n",
              "690832    690833  2.420000e+08  1.035000e+08  ...         4     3.0    1070983.5\n",
              "562741    562742  6.976000e+05  2.143700e+04  ...         1     1.0    1070983.0\n",
              "565391    565392  4.326304e+09  1.946837e+09  ...         4     6.0    1070982.0\n",
              "797935    797936  1.088000e+06  8.518000e+03  ...         1     3.0    1070980.5\n",
              "1070427  1070428  9.290000e+05  2.472400e+04  ...         1     2.0    1070976.5\n",
              "585119    585120  2.151600e+06  9.682200e+05  ...         4    20.0    1070976.5\n",
              "501142    501143  4.120000e+07  1.804500e+07  ...         4     1.0    1070976.0\n",
              "794105    794106  9.750000e+05  1.781400e+04  ...         1     3.0    1070975.5\n",
              "585438    585439  3.712000e+06  2.520000e+05  ...         4    10.0    1070975.0\n",
              "565397    565398  2.310884e+09  1.039898e+09  ...         4     6.0    1070974.5\n",
              "964933    964934  4.380000e+07  1.921500e+07  ...         4     1.0    1070973.5\n",
              "750815    750816  2.717000e+05  8.126000e+03  ...        1B     2.0    1070973.5\n",
              "\n",
              "[20 rows x 14 columns]"
            ]
          },
          "metadata": {
            "tags": []
          },
          "execution_count": 72
        }
      ]
    },
    {
      "cell_type": "markdown",
      "metadata": {
        "id": "BCH1JRweBokd",
        "colab_type": "text"
      },
      "source": [
        "Based on the observation, I was able to find two cases of anomalies:\n",
        "- Incorrect data inputs: most of the abnormal records have high scores because of the value 1 in BLDFRONT, BLDDEPTH, LTFRONT or LTDEPTH. After searching the addresses online, I concluded that most of them must be false entries.\n",
        "- Mortgage fraud: some of the abnormal records have extremely high values in FULLVAL, AVLAND, AND AVTOT. This might be a sign of false reporting of land/property values to secure higher loans. \n",
        "\n",
        "Another type of fraud might be tax avoidance fraud, an attempt to avoid tax by underrating the property or land value, but I did not find this type of anomaly in the top 20 list."
      ]
    },
    {
      "cell_type": "code",
      "metadata": {
        "id": "J4BQSDunvrbJ",
        "colab_type": "code",
        "colab": {
          "base_uri": "https://localhost:8080/",
          "height": 34
        },
        "outputId": "8226f907-c3fb-4b74-843a-9e413f329f6d"
      },
      "source": [
        "print('duration: ', datetime.now() - start_time)"
      ],
      "execution_count": 73,
      "outputs": [
        {
          "output_type": "stream",
          "text": [
            "duration:  0:34:41.405277\n"
          ],
          "name": "stdout"
        }
      ]
    }
  ]
}